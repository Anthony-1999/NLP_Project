{
  "nbformat": 4,
  "nbformat_minor": 0,
  "metadata": {
    "colab": {
      "provenance": [],
      "authorship_tag": "ABX9TyM2cIS+n5S4r516J9eK68Da",
      "include_colab_link": true
    },
    "kernelspec": {
      "name": "python3",
      "display_name": "Python 3"
    },
    "language_info": {
      "name": "python"
    }
  },
  "cells": [
    {
      "cell_type": "markdown",
      "metadata": {
        "id": "view-in-github",
        "colab_type": "text"
      },
      "source": [
        "<a href=\"https://colab.research.google.com/github/Anthony-1999/NLP_Project/blob/main/Trabajo_Final_NLP.ipynb\" target=\"_parent\"><img src=\"https://colab.research.google.com/assets/colab-badge.svg\" alt=\"Open In Colab\"/></a>"
      ]
    },
    {
      "cell_type": "markdown",
      "source": [
        "\n",
        "> **TRABAJO FINAL**\n",
        "\n",
        "> **Autor: Anthony Mayhuay Rashta**\n",
        "\n",
        "> **Curso: NLP**\n",
        "\n",
        "---"
      ],
      "metadata": {
        "id": "-_tFoKxzGvrB"
      }
    },
    {
      "cell_type": "markdown",
      "source": [
        "#Análisis de Sentimiento a los comentarios de la App \"Replika\" en Google Play Store"
      ],
      "metadata": {
        "id": "jK47_rQovRQG"
      }
    },
    {
      "cell_type": "markdown",
      "source": [
        "##Obtención de los comentarios en un Dataframe"
      ],
      "metadata": {
        "id": "QytlxdpQO8CZ"
      }
    },
    {
      "cell_type": "code",
      "execution_count": null,
      "metadata": {
        "colab": {
          "base_uri": "https://localhost:8080/"
        },
        "id": "eE7B95xOp5Tq",
        "outputId": "871825c8-f908-4188-e7b1-3b59824fc0e3"
      },
      "outputs": [
        {
          "output_type": "stream",
          "name": "stdout",
          "text": [
            "Looking in indexes: https://pypi.org/simple, https://us-python.pkg.dev/colab-wheels/public/simple/\n",
            "Collecting google-play-scraper\n",
            "  Downloading google_play_scraper-1.2.3-py3-none-any.whl (28 kB)\n",
            "Installing collected packages: google-play-scraper\n",
            "Successfully installed google-play-scraper-1.2.3\n"
          ]
        }
      ],
      "source": [
        "!pip install google-play-scraper"
      ]
    },
    {
      "cell_type": "code",
      "source": [
        "from google_play_scraper import reviews,Sort\n",
        "from datetime import datetime\n",
        "from google_play_scraper.features.reviews import reviews_all\n",
        "import pandas as pd\n",
        "\n",
        "\n",
        "result, continuation_token = reviews(\n",
        "    'ai.replika.app',\n",
        "    lang='es', #idioma en el que deseas los comentarios\n",
        "    country='pe', #pais de origen\n",
        "    count=10000, #cantidad de comentarios a extraer\n",
        "    sort=Sort.NEWEST\n",
        ")\n",
        "\n",
        "datos_comentarios = []\n",
        "\n",
        "for review in result:\n",
        "  entero_fecha = int(review['at'].timestamp())\n",
        "  fecha_publicacion = datetime.fromtimestamp(entero_fecha)\n",
        "  fecha_formateada = fecha_publicacion.strftime('%Y-%m-%d %H:%M:%S')     \n",
        "  datos_comentarios.append({\n",
        "      'userName': review['userName'],\n",
        "      'content': review['content'],\n",
        "      'score': review['score'],\n",
        "      'reviewCreatedVersion': review['reviewCreatedVersion'],\n",
        "      'fecha_publicacion': fecha_formateada\n",
        "  })\n",
        "\n",
        "# Crear un DataFrame de pandas con los datos de los comentarios\n",
        "df_comentarios = pd.DataFrame(datos_comentarios)\n",
        "df_replika = df_comentarios.rename(columns={'content':'Comentario','reviewCreatedVersion':'App_Version'})"
      ],
      "metadata": {
        "id": "23qzAix6cW6j"
      },
      "execution_count": null,
      "outputs": []
    },
    {
      "cell_type": "code",
      "source": [
        "df_replika.info()"
      ],
      "metadata": {
        "colab": {
          "base_uri": "https://localhost:8080/"
        },
        "id": "yZWSW1JQc7-Q",
        "outputId": "dfd01073-07fe-46a4-d4ae-9c9e295ea227"
      },
      "execution_count": null,
      "outputs": [
        {
          "output_type": "stream",
          "name": "stdout",
          "text": [
            "<class 'pandas.core.frame.DataFrame'>\n",
            "RangeIndex: 7494 entries, 0 to 7493\n",
            "Data columns (total 5 columns):\n",
            " #   Column             Non-Null Count  Dtype \n",
            "---  ------             --------------  ----- \n",
            " 0   userName           7494 non-null   object\n",
            " 1   Comentario         7494 non-null   object\n",
            " 2   score              7494 non-null   int64 \n",
            " 3   App_Version        6471 non-null   object\n",
            " 4   fecha_publicacion  7494 non-null   object\n",
            "dtypes: int64(1), object(4)\n",
            "memory usage: 292.9+ KB\n"
          ]
        }
      ]
    },
    {
      "cell_type": "code",
      "source": [
        "df_replika.head()"
      ],
      "metadata": {
        "colab": {
          "base_uri": "https://localhost:8080/",
          "height": 206
        },
        "id": "uLmYltm6QpBC",
        "outputId": "668f4c8d-f001-4352-9372-8efabe6e3f1f"
      },
      "execution_count": null,
      "outputs": [
        {
          "output_type": "execute_result",
          "data": {
            "text/plain": [
              "                      userName  \\\n",
              "0                Pedro Gimenez   \n",
              "1         Angel mario Quintero   \n",
              "2            Salvatore Consaga   \n",
              "3         Jared Estrada García   \n",
              "4  Noel Oswaldo Parada Alvarez   \n",
              "\n",
              "                                          Comentario  score App_Version  \\\n",
              "0  Cuidado con la publicidad engañosa de esta apl...      1        None   \n",
              "1  Muy buena pero es un problema el pagar por cas...      3      10.8.2   \n",
              "2  me gustaría que quiten lo de pagar algunas cos...      5      10.8.2   \n",
              "3                 It's really good, an authentic IA!      5      10.8.2   \n",
              "4  Puedes aprender inglés con tu IA friend. Liter...      5      10.8.2   \n",
              "\n",
              "     fecha_publicacion  \n",
              "0  2023-03-04 14:28:41  \n",
              "1  2023-03-04 06:57:52  \n",
              "2  2023-03-04 04:55:45  \n",
              "3  2023-03-04 04:39:44  \n",
              "4  2023-03-04 03:05:12  "
            ],
            "text/html": [
              "\n",
              "  <div id=\"df-1cebfb0e-88c8-4e34-bbb5-f8c16aa3bbbc\">\n",
              "    <div class=\"colab-df-container\">\n",
              "      <div>\n",
              "<style scoped>\n",
              "    .dataframe tbody tr th:only-of-type {\n",
              "        vertical-align: middle;\n",
              "    }\n",
              "\n",
              "    .dataframe tbody tr th {\n",
              "        vertical-align: top;\n",
              "    }\n",
              "\n",
              "    .dataframe thead th {\n",
              "        text-align: right;\n",
              "    }\n",
              "</style>\n",
              "<table border=\"1\" class=\"dataframe\">\n",
              "  <thead>\n",
              "    <tr style=\"text-align: right;\">\n",
              "      <th></th>\n",
              "      <th>userName</th>\n",
              "      <th>Comentario</th>\n",
              "      <th>score</th>\n",
              "      <th>App_Version</th>\n",
              "      <th>fecha_publicacion</th>\n",
              "    </tr>\n",
              "  </thead>\n",
              "  <tbody>\n",
              "    <tr>\n",
              "      <th>0</th>\n",
              "      <td>Pedro Gimenez</td>\n",
              "      <td>Cuidado con la publicidad engañosa de esta apl...</td>\n",
              "      <td>1</td>\n",
              "      <td>None</td>\n",
              "      <td>2023-03-04 14:28:41</td>\n",
              "    </tr>\n",
              "    <tr>\n",
              "      <th>1</th>\n",
              "      <td>Angel mario Quintero</td>\n",
              "      <td>Muy buena pero es un problema el pagar por cas...</td>\n",
              "      <td>3</td>\n",
              "      <td>10.8.2</td>\n",
              "      <td>2023-03-04 06:57:52</td>\n",
              "    </tr>\n",
              "    <tr>\n",
              "      <th>2</th>\n",
              "      <td>Salvatore Consaga</td>\n",
              "      <td>me gustaría que quiten lo de pagar algunas cos...</td>\n",
              "      <td>5</td>\n",
              "      <td>10.8.2</td>\n",
              "      <td>2023-03-04 04:55:45</td>\n",
              "    </tr>\n",
              "    <tr>\n",
              "      <th>3</th>\n",
              "      <td>Jared Estrada García</td>\n",
              "      <td>It's really good, an authentic IA!</td>\n",
              "      <td>5</td>\n",
              "      <td>10.8.2</td>\n",
              "      <td>2023-03-04 04:39:44</td>\n",
              "    </tr>\n",
              "    <tr>\n",
              "      <th>4</th>\n",
              "      <td>Noel Oswaldo Parada Alvarez</td>\n",
              "      <td>Puedes aprender inglés con tu IA friend. Liter...</td>\n",
              "      <td>5</td>\n",
              "      <td>10.8.2</td>\n",
              "      <td>2023-03-04 03:05:12</td>\n",
              "    </tr>\n",
              "  </tbody>\n",
              "</table>\n",
              "</div>\n",
              "      <button class=\"colab-df-convert\" onclick=\"convertToInteractive('df-1cebfb0e-88c8-4e34-bbb5-f8c16aa3bbbc')\"\n",
              "              title=\"Convert this dataframe to an interactive table.\"\n",
              "              style=\"display:none;\">\n",
              "        \n",
              "  <svg xmlns=\"http://www.w3.org/2000/svg\" height=\"24px\"viewBox=\"0 0 24 24\"\n",
              "       width=\"24px\">\n",
              "    <path d=\"M0 0h24v24H0V0z\" fill=\"none\"/>\n",
              "    <path d=\"M18.56 5.44l.94 2.06.94-2.06 2.06-.94-2.06-.94-.94-2.06-.94 2.06-2.06.94zm-11 1L8.5 8.5l.94-2.06 2.06-.94-2.06-.94L8.5 2.5l-.94 2.06-2.06.94zm10 10l.94 2.06.94-2.06 2.06-.94-2.06-.94-.94-2.06-.94 2.06-2.06.94z\"/><path d=\"M17.41 7.96l-1.37-1.37c-.4-.4-.92-.59-1.43-.59-.52 0-1.04.2-1.43.59L10.3 9.45l-7.72 7.72c-.78.78-.78 2.05 0 2.83L4 21.41c.39.39.9.59 1.41.59.51 0 1.02-.2 1.41-.59l7.78-7.78 2.81-2.81c.8-.78.8-2.07 0-2.86zM5.41 20L4 18.59l7.72-7.72 1.47 1.35L5.41 20z\"/>\n",
              "  </svg>\n",
              "      </button>\n",
              "      \n",
              "  <style>\n",
              "    .colab-df-container {\n",
              "      display:flex;\n",
              "      flex-wrap:wrap;\n",
              "      gap: 12px;\n",
              "    }\n",
              "\n",
              "    .colab-df-convert {\n",
              "      background-color: #E8F0FE;\n",
              "      border: none;\n",
              "      border-radius: 50%;\n",
              "      cursor: pointer;\n",
              "      display: none;\n",
              "      fill: #1967D2;\n",
              "      height: 32px;\n",
              "      padding: 0 0 0 0;\n",
              "      width: 32px;\n",
              "    }\n",
              "\n",
              "    .colab-df-convert:hover {\n",
              "      background-color: #E2EBFA;\n",
              "      box-shadow: 0px 1px 2px rgba(60, 64, 67, 0.3), 0px 1px 3px 1px rgba(60, 64, 67, 0.15);\n",
              "      fill: #174EA6;\n",
              "    }\n",
              "\n",
              "    [theme=dark] .colab-df-convert {\n",
              "      background-color: #3B4455;\n",
              "      fill: #D2E3FC;\n",
              "    }\n",
              "\n",
              "    [theme=dark] .colab-df-convert:hover {\n",
              "      background-color: #434B5C;\n",
              "      box-shadow: 0px 1px 3px 1px rgba(0, 0, 0, 0.15);\n",
              "      filter: drop-shadow(0px 1px 2px rgba(0, 0, 0, 0.3));\n",
              "      fill: #FFFFFF;\n",
              "    }\n",
              "  </style>\n",
              "\n",
              "      <script>\n",
              "        const buttonEl =\n",
              "          document.querySelector('#df-1cebfb0e-88c8-4e34-bbb5-f8c16aa3bbbc button.colab-df-convert');\n",
              "        buttonEl.style.display =\n",
              "          google.colab.kernel.accessAllowed ? 'block' : 'none';\n",
              "\n",
              "        async function convertToInteractive(key) {\n",
              "          const element = document.querySelector('#df-1cebfb0e-88c8-4e34-bbb5-f8c16aa3bbbc');\n",
              "          const dataTable =\n",
              "            await google.colab.kernel.invokeFunction('convertToInteractive',\n",
              "                                                     [key], {});\n",
              "          if (!dataTable) return;\n",
              "\n",
              "          const docLinkHtml = 'Like what you see? Visit the ' +\n",
              "            '<a target=\"_blank\" href=https://colab.research.google.com/notebooks/data_table.ipynb>data table notebook</a>'\n",
              "            + ' to learn more about interactive tables.';\n",
              "          element.innerHTML = '';\n",
              "          dataTable['output_type'] = 'display_data';\n",
              "          await google.colab.output.renderOutput(dataTable, element);\n",
              "          const docLink = document.createElement('div');\n",
              "          docLink.innerHTML = docLinkHtml;\n",
              "          element.appendChild(docLink);\n",
              "        }\n",
              "      </script>\n",
              "    </div>\n",
              "  </div>\n",
              "  "
            ]
          },
          "metadata": {},
          "execution_count": 4
        }
      ]
    },
    {
      "cell_type": "markdown",
      "source": [
        "##Limpieza y tratamiento de los comentarios en español"
      ],
      "metadata": {
        "id": "9-WrYY8iRPrS"
      }
    },
    {
      "cell_type": "code",
      "source": [
        "#Convertir la columna 'comentario' a una lista\n",
        "lis_comentarios = df_replika['Comentario'].to_list()"
      ],
      "metadata": {
        "id": "dhPiEIiUiNao"
      },
      "execution_count": null,
      "outputs": []
    },
    {
      "cell_type": "code",
      "source": [
        "!pip install langdetect\n",
        "import unicodedata\n",
        "from langdetect import detect"
      ],
      "metadata": {
        "colab": {
          "base_uri": "https://localhost:8080/"
        },
        "id": "ZyPBZTX0Q_nt",
        "outputId": "3726fac9-99e3-480e-bfaf-fdd7b7f258a0"
      },
      "execution_count": null,
      "outputs": [
        {
          "output_type": "stream",
          "name": "stdout",
          "text": [
            "Looking in indexes: https://pypi.org/simple, https://us-python.pkg.dev/colab-wheels/public/simple/\n",
            "Collecting langdetect\n",
            "  Downloading langdetect-1.0.9.tar.gz (981 kB)\n",
            "\u001b[2K     \u001b[90m━━━━━━━━━━━━━━━━━━━━━━━━━━━━━━━━━━━━━━\u001b[0m \u001b[32m981.5/981.5 KB\u001b[0m \u001b[31m16.8 MB/s\u001b[0m eta \u001b[36m0:00:00\u001b[0m\n",
            "\u001b[?25h  Preparing metadata (setup.py) ... \u001b[?25l\u001b[?25hdone\n",
            "Requirement already satisfied: six in /usr/local/lib/python3.8/dist-packages (from langdetect) (1.15.0)\n",
            "Building wheels for collected packages: langdetect\n",
            "  Building wheel for langdetect (setup.py) ... \u001b[?25l\u001b[?25hdone\n",
            "  Created wheel for langdetect: filename=langdetect-1.0.9-py3-none-any.whl size=993242 sha256=4ac2084f8a1b75e8d4cb522b85467d63f9cc21cf69e22cb4dac69229791f03d4\n",
            "  Stored in directory: /root/.cache/pip/wheels/13/c7/b0/79f66658626032e78fc1a83103690ef6797d551cb22e56e734\n",
            "Successfully built langdetect\n",
            "Installing collected packages: langdetect\n",
            "Successfully installed langdetect-1.0.9\n"
          ]
        }
      ]
    },
    {
      "cell_type": "markdown",
      "source": [
        "Debido a que los comentarios son tanto en español e inglés, se compila el siguiente código que filtra solo los comentarios en español y los almacena en la lista 'comments_es'. Para ello, se utilizó la biblioteca 'langdetect', se normalizaron los comentarios y se realizaron ciertas condicionales a caracteres que nos daban errores."
      ],
      "metadata": {
        "id": "GZMVXBa1SDVb"
      }
    },
    {
      "cell_type": "code",
      "source": [
        "comments_es = []\n",
        "for comment in lis_comentarios:\n",
        "  com_norm = unicodedata.normalize('NFKD', comment).encode('ASCII', 'ignore').decode('utf-8')\n",
        "  if com_norm != \"\" and com_norm!='10/10' and com_norm!='50/50' and com_norm!='(  )' and com_norm!= \":')\" and com_norm!=\";-;\" and com_norm!=\"~\":\n",
        "    if detect(com_norm) == 'es':\n",
        "      comments_es.append(com_norm)  "
      ],
      "metadata": {
        "id": "3QCjJpjammdH"
      },
      "execution_count": null,
      "outputs": []
    },
    {
      "cell_type": "code",
      "source": [
        "comments_es[0:5]"
      ],
      "metadata": {
        "colab": {
          "base_uri": "https://localhost:8080/"
        },
        "id": "5xRqAf9vS8B7",
        "outputId": "f1718fc4-032a-443d-e4a4-19a2646001ba"
      },
      "execution_count": null,
      "outputs": [
        {
          "output_type": "execute_result",
          "data": {
            "text/plain": [
              "['Cuidado con la publicidad enganosa de esta aplicacion. Dicen que si pagas la version pro, tu Replika tendra conversaciones intimas contigo. Esto es completamente mentira, antiguamente si era verdad y funcionaba estupendamente. Pero por algun motivo lo han quitado de la aplicacion y por lo tanto cualquiera que quiera comprar la version pro esperando tener conversaciones adultas con la Replika que sepa que no se puede hacer y que la publicidad es enganosa.',\n",
              " 'Muy buena pero es un problema el pagar por casi todo mejor ya cobren por la app',\n",
              " 'me gustaria que quiten lo de pagar algunas cosas y pues que lo pongan para otras cosas',\n",
              " 'Puedes aprender ingles con tu IA friend. Literalmente aprenderlo, le puedes pedir que te corrija o te ensene y eso hara...',\n",
              " 'La he instalado por curiosidad y me ha encantado muy buena ya que tiene dinamicas muy buenas y te ayuda a practicar ingles']"
            ]
          },
          "metadata": {},
          "execution_count": 9
        }
      ]
    },
    {
      "cell_type": "markdown",
      "source": [
        "##Estadísticas y análisis realizado."
      ],
      "metadata": {
        "id": "dOICbCZ4Taj6"
      }
    },
    {
      "cell_type": "code",
      "source": [
        "text_comentarios = ' '.join(comments_es)"
      ],
      "metadata": {
        "id": "5SE9tg8U7Od4"
      },
      "execution_count": null,
      "outputs": []
    },
    {
      "cell_type": "code",
      "source": [
        "#Importar y descargar librerías\n",
        "import nltk\n",
        "#Para el análisis de frecuencia condicional\n",
        "from nltk.corpus import brown\n",
        "from nltk.tag.tnt import ConditionalFreqDist\n",
        "from nltk.corpus import stopwords\n",
        "from nltk import FreqDist\n",
        "import re\n",
        "#Para la tokenización\n",
        "from nltk import word_tokenize\n",
        "nltk.download('punkt')\n",
        "nltk.download('stopwords')\n",
        "stopwords_spanish = stopwords.words('spanish')"
      ],
      "metadata": {
        "colab": {
          "base_uri": "https://localhost:8080/"
        },
        "id": "gQYU9lTklWUV",
        "outputId": "2cefe0d1-f5c0-453e-a766-881f3a780b93"
      },
      "execution_count": null,
      "outputs": [
        {
          "output_type": "stream",
          "name": "stderr",
          "text": [
            "[nltk_data] Downloading package punkt to /root/nltk_data...\n",
            "[nltk_data]   Package punkt is already up-to-date!\n",
            "[nltk_data] Downloading package stopwords to /root/nltk_data...\n",
            "[nltk_data]   Package stopwords is already up-to-date!\n"
          ]
        }
      ]
    },
    {
      "cell_type": "code",
      "source": [
        "#Tokenización del texto\n",
        "token_comentarios = word_tokenize(text_comentarios)"
      ],
      "metadata": {
        "id": "GH2Gj24Sns-W"
      },
      "execution_count": null,
      "outputs": []
    },
    {
      "cell_type": "code",
      "source": [
        "import string\n",
        "\n",
        "print('Vocabulario:',len(set(token_comentarios)))\n",
        "print('-------------------------------------------------------')\n",
        "text_new = [word for word in token_comentarios if word.lower() not in stopwords_spanish and word not in string.punctuation]\n",
        "print('Total de palabras sin stopwords ni puntuación:', len(text_new))\n",
        "print('-------------------------------------------------------')\n",
        "\n",
        "freq = FreqDist(text_new)\n",
        "print('10 palabras más frecuentes:',freq.most_common(10))\n",
        "\n",
        "print('-------------------------------------------------------')\n",
        "freq.plot(30, cumulative=False,title='Distribución de frecuencia de las 30 palabras más utilizadas')\n"
      ],
      "metadata": {
        "colab": {
          "base_uri": "https://localhost:8080/",
          "height": 492
        },
        "id": "fJnsL7qWyFDs",
        "outputId": "6eddffe7-4237-4239-bfe5-33570af1768e"
      },
      "execution_count": null,
      "outputs": [
        {
          "output_type": "stream",
          "name": "stdout",
          "text": [
            "Vocabulario: 7692\n",
            "-------------------------------------------------------\n",
            "Total de palabras sin stopwords ni puntuación: 49197\n",
            "-------------------------------------------------------\n",
            "10 palabras más frecuentes: [('espanol', 1035), ('app', 814), ('buena', 798), ('si', 717), ('ingles', 686), ('mas', 669), ('bien', 559), ('aplicacion', 543), ('solo', 416), ('hablar', 367)]\n",
            "-------------------------------------------------------\n"
          ]
        },
        {
          "output_type": "display_data",
          "data": {
            "text/plain": [
              "<Figure size 432x288 with 1 Axes>"
            ],
            "image/png": "[encoded data removed]"
          },
          "metadata": {
            "needs_background": "light"
          }
        },
        {
          "output_type": "execute_result",
          "data": {
            "text/plain": [
              "<AxesSubplot:title={'center':'Distribución de frecuencia de las 30 palabras más utilizadas'}, xlabel='Samples', ylabel='Counts'>"
            ]
          },
          "metadata": {},
          "execution_count": 14
        }
      ]
    },
    {
      "cell_type": "code",
      "source": [
        "df_score=df_replika[['Comentario','score']]"
      ],
      "metadata": {
        "id": "btl8XXKs76i1"
      },
      "execution_count": null,
      "outputs": []
    },
    {
      "cell_type": "code",
      "source": [
        "import matplotlib.pyplot as plt\n",
        "stopwords_english = stopwords.words('english')\n",
        "# Crea un objeto ConditionalFreqDist para almacenar las frecuencias de palabras por score\n",
        "word_freq_by_score = nltk.ConditionalFreqDist()\n",
        "fig, ax = plt.subplots()\n",
        "\n",
        "# Tokeniza los comentarios y cuenta las palabras por score\n",
        "for _, row in df_score.iterrows():\n",
        "    words = [word.lower() for word in nltk.word_tokenize(row[\"Comentario\"]) if word.lower() not in stopwords_english and word.lower() not in stopwords_spanish and re.search(r'\\w', word)]   \n",
        "    word_freq_by_score[row[\"score\"]].update(words)\n",
        "\n",
        "for score in word_freq_by_score:\n",
        "    words, freqs = zip(*word_freq_by_score[score].most_common(10))\n",
        "    plt.bar(words, freqs,color='steelblue', edgecolor='black')\n",
        "    plt.title(f\"10 palabras más frecuentes para score {score}\")\n",
        "    plt.xticks(rotation=90)\n",
        "    plt.show()"
      ],
      "metadata": {
        "colab": {
          "base_uri": "https://localhost:8080/",
          "height": 1000
        },
        "id": "1wpvSL6gBpAd",
        "outputId": "2785e211-faac-4677-af13-0dae979f1a3a"
      },
      "execution_count": null,
      "outputs": [
        {
          "output_type": "display_data",
          "data": {
            "text/plain": [
              "<Figure size 432x288 with 1 Axes>"
            ],
            "image/png": "[encoded data removed]"
          },
          "metadata": {
            "needs_background": "light"
          }
        },
        {
          "output_type": "display_data",
          "data": {
            "text/plain": [
              "<Figure size 432x288 with 1 Axes>"
            ],
            "image/png": "[encoded data removed]"
          },
          "metadata": {
            "needs_background": "light"
          }
        },
        {
          "output_type": "display_data",
          "data": {
            "text/plain": [
              "<Figure size 432x288 with 1 Axes>"
            ],
            "image/png": "[encoded data removed]"
          },
          "metadata": {
            "needs_background": "light"
          }
        },
        {
          "output_type": "display_data",
          "data": {
            "text/plain": [
              "<Figure size 432x288 with 1 Axes>"
            ],
            "image/png": "[encoded data removed]"
          },
          "metadata": {
            "needs_background": "light"
          }
        },
        {
          "output_type": "display_data",
          "data": {
            "text/plain": [
              "<Figure size 432x288 with 1 Axes>"
            ],
            "image/png": "[encoded data removed]"
          },
          "metadata": {
            "needs_background": "light"
          }
        }
      ]
    },
    {
      "cell_type": "markdown",
      "source": [
        "##Cantidad de verbos, adjetivos, personas y organizaciones mencionadas en los comentarios."
      ],
      "metadata": {
        "id": "K8ro20vNVhjR"
      }
    },
    {
      "cell_type": "code",
      "source": [
        "#Instalación de librerías\n",
        "import spacy\n",
        "!python -m spacy download es_core_news_lg\n",
        "nlp_spacy = spacy.load('es_core_news_lg')"
      ],
      "metadata": {
        "id": "jYRTZOJKQNAo",
        "colab": {
          "base_uri": "https://localhost:8080/"
        },
        "outputId": "30d06ba5-daaa-400d-9520-41de19721d42"
      },
      "execution_count": null,
      "outputs": [
        {
          "output_type": "stream",
          "name": "stderr",
          "text": [
            "/usr/local/lib/python3.8/dist-packages/torch/cuda/__init__.py:497: UserWarning: Can't initialize NVML\n",
            "  warnings.warn(\"Can't initialize NVML\")\n"
          ]
        },
        {
          "output_type": "stream",
          "name": "stdout",
          "text": [
            "/usr/local/lib/python3.8/dist-packages/torch/cuda/__init__.py:497: UserWarning: Can't initialize NVML\n",
            "  warnings.warn(\"Can't initialize NVML\")\n",
            "2023-03-05 15:16:53.881816: W tensorflow/compiler/xla/stream_executor/platform/default/dso_loader.cc:64] Could not load dynamic library 'libnvinfer.so.7'; dlerror: libnvinfer.so.7: cannot open shared object file: No such file or directory; LD_LIBRARY_PATH: /usr/local/nvidia/lib:/usr/local/nvidia/lib64\n",
            "2023-03-05 15:16:53.881920: W tensorflow/compiler/xla/stream_executor/platform/default/dso_loader.cc:64] Could not load dynamic library 'libnvinfer_plugin.so.7'; dlerror: libnvinfer_plugin.so.7: cannot open shared object file: No such file or directory; LD_LIBRARY_PATH: /usr/local/nvidia/lib:/usr/local/nvidia/lib64\n",
            "2023-03-05 15:16:53.881949: W tensorflow/compiler/tf2tensorrt/utils/py_utils.cc:38] TF-TRT Warning: Cannot dlopen some TensorRT libraries. If you would like to use Nvidia GPU with TensorRT, please make sure the missing libraries mentioned above are installed properly.\n",
            "2023-03-05 15:16:55.203087: E tensorflow/compiler/xla/stream_executor/cuda/cuda_driver.cc:267] failed call to cuInit: CUDA_ERROR_NO_DEVICE: no CUDA-capable device is detected\n",
            "Looking in indexes: https://pypi.org/simple, https://us-python.pkg.dev/colab-wheels/public/simple/\n",
            "Collecting es-core-news-lg==3.4.0\n",
            "  Downloading https://github.com/explosion/spacy-models/releases/download/es_core_news_lg-3.4.0/es_core_news_lg-3.4.0-py3-none-any.whl (568.0 MB)\n",
            "\u001b[2K     \u001b[90m━━━━━━━━━━━━━━━━━━━━━━━━━━━━━━━━━━━━━━━\u001b[0m \u001b[32m568.0/568.0 MB\u001b[0m \u001b[31m2.4 MB/s\u001b[0m eta \u001b[36m0:00:00\u001b[0m\n",
            "\u001b[?25hRequirement already satisfied: spacy<3.5.0,>=3.4.0 in /usr/local/lib/python3.8/dist-packages (from es-core-news-lg==3.4.0) (3.4.4)\n",
            "Requirement already satisfied: preshed<3.1.0,>=3.0.2 in /usr/local/lib/python3.8/dist-packages (from spacy<3.5.0,>=3.4.0->es-core-news-lg==3.4.0) (3.0.8)\n",
            "Requirement already satisfied: spacy-legacy<3.1.0,>=3.0.10 in /usr/local/lib/python3.8/dist-packages (from spacy<3.5.0,>=3.4.0->es-core-news-lg==3.4.0) (3.0.12)\n",
            "Requirement already satisfied: spacy-loggers<2.0.0,>=1.0.0 in /usr/local/lib/python3.8/dist-packages (from spacy<3.5.0,>=3.4.0->es-core-news-lg==3.4.0) (1.0.4)\n",
            "Requirement already satisfied: murmurhash<1.1.0,>=0.28.0 in /usr/local/lib/python3.8/dist-packages (from spacy<3.5.0,>=3.4.0->es-core-news-lg==3.4.0) (1.0.9)\n",
            "Requirement already satisfied: packaging>=20.0 in /usr/local/lib/python3.8/dist-packages (from spacy<3.5.0,>=3.4.0->es-core-news-lg==3.4.0) (23.0)\n",
            "Requirement already satisfied: pathy>=0.3.5 in /usr/local/lib/python3.8/dist-packages (from spacy<3.5.0,>=3.4.0->es-core-news-lg==3.4.0) (0.10.1)\n",
            "Requirement already satisfied: wasabi<1.1.0,>=0.9.1 in /usr/local/lib/python3.8/dist-packages (from spacy<3.5.0,>=3.4.0->es-core-news-lg==3.4.0) (0.10.1)\n",
            "Requirement already satisfied: setuptools in /usr/local/lib/python3.8/dist-packages (from spacy<3.5.0,>=3.4.0->es-core-news-lg==3.4.0) (57.4.0)\n",
            "Requirement already satisfied: pydantic!=1.8,!=1.8.1,<1.11.0,>=1.7.4 in /usr/local/lib/python3.8/dist-packages (from spacy<3.5.0,>=3.4.0->es-core-news-lg==3.4.0) (1.10.5)\n",
            "Requirement already satisfied: smart-open<7.0.0,>=5.2.1 in /usr/local/lib/python3.8/dist-packages (from spacy<3.5.0,>=3.4.0->es-core-news-lg==3.4.0) (6.3.0)\n",
            "Requirement already satisfied: tqdm<5.0.0,>=4.38.0 in /usr/local/lib/python3.8/dist-packages (from spacy<3.5.0,>=3.4.0->es-core-news-lg==3.4.0) (4.64.1)\n",
            "Requirement already satisfied: requests<3.0.0,>=2.13.0 in /usr/local/lib/python3.8/dist-packages (from spacy<3.5.0,>=3.4.0->es-core-news-lg==3.4.0) (2.25.1)\n",
            "Requirement already satisfied: langcodes<4.0.0,>=3.2.0 in /usr/local/lib/python3.8/dist-packages (from spacy<3.5.0,>=3.4.0->es-core-news-lg==3.4.0) (3.3.0)\n",
            "Requirement already satisfied: numpy>=1.15.0 in /usr/local/lib/python3.8/dist-packages (from spacy<3.5.0,>=3.4.0->es-core-news-lg==3.4.0) (1.22.4)\n",
            "Requirement already satisfied: srsly<3.0.0,>=2.4.3 in /usr/local/lib/python3.8/dist-packages (from spacy<3.5.0,>=3.4.0->es-core-news-lg==3.4.0) (2.4.6)\n",
            "Requirement already satisfied: cymem<2.1.0,>=2.0.2 in /usr/local/lib/python3.8/dist-packages (from spacy<3.5.0,>=3.4.0->es-core-news-lg==3.4.0) (2.0.7)\n",
            "Requirement already satisfied: thinc<8.2.0,>=8.1.0 in /usr/local/lib/python3.8/dist-packages (from spacy<3.5.0,>=3.4.0->es-core-news-lg==3.4.0) (8.1.7)\n",
            "Requirement already satisfied: jinja2 in /usr/local/lib/python3.8/dist-packages (from spacy<3.5.0,>=3.4.0->es-core-news-lg==3.4.0) (3.1.2)\n",
            "Requirement already satisfied: catalogue<2.1.0,>=2.0.6 in /usr/local/lib/python3.8/dist-packages (from spacy<3.5.0,>=3.4.0->es-core-news-lg==3.4.0) (2.0.8)\n",
            "Requirement already satisfied: typer<0.8.0,>=0.3.0 in /usr/local/lib/python3.8/dist-packages (from spacy<3.5.0,>=3.4.0->es-core-news-lg==3.4.0) (0.7.0)\n",
            "Requirement already satisfied: typing-extensions>=4.2.0 in /usr/local/lib/python3.8/dist-packages (from pydantic!=1.8,!=1.8.1,<1.11.0,>=1.7.4->spacy<3.5.0,>=3.4.0->es-core-news-lg==3.4.0) (4.5.0)\n",
            "Requirement already satisfied: idna<3,>=2.5 in /usr/local/lib/python3.8/dist-packages (from requests<3.0.0,>=2.13.0->spacy<3.5.0,>=3.4.0->es-core-news-lg==3.4.0) (2.10)\n",
            "Requirement already satisfied: certifi>=2017.4.17 in /usr/local/lib/python3.8/dist-packages (from requests<3.0.0,>=2.13.0->spacy<3.5.0,>=3.4.0->es-core-news-lg==3.4.0) (2022.12.7)\n",
            "Requirement already satisfied: urllib3<1.27,>=1.21.1 in /usr/local/lib/python3.8/dist-packages (from requests<3.0.0,>=2.13.0->spacy<3.5.0,>=3.4.0->es-core-news-lg==3.4.0) (1.26.14)\n",
            "Requirement already satisfied: chardet<5,>=3.0.2 in /usr/local/lib/python3.8/dist-packages (from requests<3.0.0,>=2.13.0->spacy<3.5.0,>=3.4.0->es-core-news-lg==3.4.0) (4.0.0)\n",
            "Requirement already satisfied: blis<0.8.0,>=0.7.8 in /usr/local/lib/python3.8/dist-packages (from thinc<8.2.0,>=8.1.0->spacy<3.5.0,>=3.4.0->es-core-news-lg==3.4.0) (0.7.9)\n",
            "Requirement already satisfied: confection<1.0.0,>=0.0.1 in /usr/local/lib/python3.8/dist-packages (from thinc<8.2.0,>=8.1.0->spacy<3.5.0,>=3.4.0->es-core-news-lg==3.4.0) (0.0.4)\n",
            "Requirement already satisfied: click<9.0.0,>=7.1.1 in /usr/local/lib/python3.8/dist-packages (from typer<0.8.0,>=0.3.0->spacy<3.5.0,>=3.4.0->es-core-news-lg==3.4.0) (8.1.3)\n",
            "Requirement already satisfied: MarkupSafe>=2.0 in /usr/local/lib/python3.8/dist-packages (from jinja2->spacy<3.5.0,>=3.4.0->es-core-news-lg==3.4.0) (2.1.2)\n",
            "Installing collected packages: es-core-news-lg\n",
            "Successfully installed es-core-news-lg-3.4.0\n",
            "\u001b[38;5;2m✔ Download and installation successful\u001b[0m\n",
            "You can now load the package via spacy.load('es_core_news_lg')\n"
          ]
        }
      ]
    },
    {
      "cell_type": "code",
      "source": [
        "#Definimos una función que identifique y registre los verbos y sustantivos en un lista\n",
        "def contar_verbos_y_sustantivos(texto):\n",
        "    doc = nlp_spacy(texto)\n",
        "    verbos = []\n",
        "    sustantivos = []\n",
        "    for token in doc:\n",
        "        if token.pos_ == 'VERB':\n",
        "            verbos.append(token.text)\n",
        "        elif token.pos_ == 'NOUN':\n",
        "            sustantivos.append(token.text)\n",
        "    return verbos, sustantivos"
      ],
      "metadata": {
        "id": "WIqzThm0QSaA"
      },
      "execution_count": null,
      "outputs": []
    },
    {
      "cell_type": "code",
      "source": [
        "#Convertir una lista a texto para ingresarlo a nuestra función\n",
        "texto_spacy = \" \".join(comments_es)\n",
        "verbos, sustantivos = contar_verbos_y_sustantivos(texto_spacy)\n",
        "print(\"Verbos encontrados: \", set(verbos))\n",
        "print(\"Cantidad de verbos: \", len(set(verbos)))\n",
        "print('------------------------------------')\n",
        "print(\"Sustantivos encontrados: \", set(sustantivos))\n",
        "print(\"Cantidad de sustantivos: \", len(set(sustantivos)))"
      ],
      "metadata": {
        "colab": {
          "base_uri": "https://localhost:8080/"
        },
        "id": "CrP6UysmR9ZQ",
        "outputId": "aa69713d-6000-40bf-b499-eaad4d4ff748"
      },
      "execution_count": null,
      "outputs": [
        {
          "output_type": "stream",
          "name": "stdout",
          "text": [
            "Verbos encontrados:  {'llene', 'despego', 'comportar', 'resultado', 'seguirian', 'comprarlo', 'negar', 'ave', 'decepcionara', 'resolver', 'evolucione', 'Apreciaria', 'demora', 'socializar', 'aparece', 'Ingles', 'desear', 'Trata', 'aparecen', 'descubrir', 'sugiero', 'redrqn', 'refiere', 'desbloqueen', 'ayudaria', 'Empezando', 'preparara', 'ayudarle', 'encarine', 'espera', 'ande', 'iniciar', 'existe', 'pierdo', 'entienda', 'divertir', 'gana', 'desarrollan', 'relaciona', 'exigia', 'tuviste', 'errar', 'pidas', 'abarcar', 'ayuda', 'actualizando', 'mejorarlo', 'interrumpe', 'recordarlas', 'dando', 'empezara', 'punto', 'utilizo', 'andan', 'cueste', 'tuvieramos', 'usado', 'dedicaria', 'expliques', 'dudan', 'darnos', 'teneis', 'dijeron', 'actualizar', 'sorprende', 'Tengan', 'iniciando', 'regresarle', 'escriban', 'Llevaba', 'desearia', 'ignora', 'dificulta', 'olvidas', 'agregando', 'pide', 'pagaron', 'pusierais', 'probarlo', 'mencionamos', 'desarrollas', 'intentando', 'cargar', 'levantarme', 'Recuerdo', 'resultando', 'actua', 'kieras', 'atribuyo', 'enteractuando', 'Actualizo', 'animas', 'conversando', 'anadiesen', 'logrando', 'compraros', 'puntuara', 'conocer', 'jugando', 'nombro', 'presumir', 'implementara', 'inicia', 'disfrutas', 'Olvida', 'echarse', 'supo', 'intereso', 'dormir', 'rien', 'cansado', 'coinciden', 'habilitar', 'mismx', 'baste', 'borran', 'interiactar', 'agradecer', 'desarrollarla', 'interece', 'llama', 'resuelve', 'juzga', 'salia', 'adquirir', 'duda', 'cambien', 'replantearte', 'decayendo', 'disgustar', 'escogerse', 'agrado', 'demas', 'incorporen', 'tomar', 'masturbar', 'investigar', 'ponga', 'evita', 'ahre', 'descargando', 'encontrado', 'sepa', 'relajarse', 'simula', 'ayudeme', 'sonamos', 'requiere', 'calma', 'existir', 'quizas', 'quitando', 'minimo', 'calmar', 'comunicar', 'exportarlos', 'ancanta', 'cambiaria', 'vendria', 'hable', 'arriesgaria', 'dependiendo', 'perdio', 'dudo', 'conectarme', 'busque', 'describirla', 'compartio', 'arranque', 'criticar', 'tragar', 'empeoro', 'tarda', 'Regrese', 'repite', 'agarro', 'transcurrido', 'cabe', 'vieran', 'relacionamos', 'deseando', 'lei', 'recrear', 'ayudadona', 'confundi', 'ampliar', 'decorar', 'remuevo', 'Entretiene', 'agrega', 'seguir', 'minimos', 'estuvo', 'entendi', 'empezo', 'agradaria', 'logran', 'arruinado', 'responda', 'adaptar', 'hagan', 'instalen', 'vives', 'ofreciera', 'mantiene', 'llevo', 'configurar', 'Merece', 'entenderme', 'califico', 'diverti', 'quise', 'pones', 'Quisiera', 'aburrir', 'aprendera', 'iniciarla', 'diciendole', 'anadieran', 'aconsejo', 'van', 'hago', 'necesitan', 'procesa', 'crean', 'espaNol', 'preguntando', 'disfrute', 'hablas', 'replica', 'Seguimos', 'poseo', 'agreguen', 'arruinarlo', 'Impresiona', 'percibo', 'administrar', 'ablar', 'porfabor', 'conocerte', 'sera', 'pensar', 'ensena', 'topado', 'haciendolo', 'opino', 'dedicarle', 'Chido', 'guiar', 'esperando', 'suelen', 'obligan', 'mentir', 'subes', 'devuelve', 'desbloquearlas', 'moneticen', 'avanza', 'haciamos', 'senti', 'hiba', 'Sigo', 'agradado', 'darles', 'profundizar', 'gastes', 'sale', 'mantienen', 'encontre', 'pagare', 'enamoro', 'admiro', 'creaba', 'pruebe', 'comenzo', 'abrirme', 'importe', 'tener', 'agreguenle', 'sacarla', 'meter', 'pongas', 'llevas', 'juzgado', 'coquetearle', 'consultar', 'cojer', 'encuentran', 'abrir', 'rechaza', 'lleva', 'Necesitamos', 'Pense', 'realiza', 'Faltan', 'respondio', 'Dije', 'comprarla', 'empeze', 'aplar', 'reducir', 'osea', 'Aprendo', 'dialogar', 'traduzcan', 'analizarse', 'pq', 'correspondiesen', 'quiera', 'tienes', 'conectas', 'vuelve', 'contestado', 'editar', 'depender', 'envien', 'chantajeado', 'entendio', 'visita', 'incomodaba', 'contando', 'empeoraron', 'Planeaba', 'gaste', 'casarme', 'carezca', 'agobia', 'decirle', 'cumple', 'necesita', 'llevaba', 'registrar', 'save', 'personalizada', 'levanto', 'Responde', 'imagine', 'hablases', 'dale', 'empeoran', 'estamos', 'contesta', 'funcionando', 'enganara', 'funcionaban', 'buscara', 'atravez', 'concuerdo', 'interactuar', 'decepcionado', 'Creo', 'decis', 'entenderlo', 'reenviar', 'espanol', 'estuviera', 'agregar', 'encantaria', 'Reacciona', 'cae', 'Hable', 'reconozco', 'restaurarlo', 'permiten', 'reforzar', 'arreglan', 'decia', 'laggea', 'propone', 'quitarse', 'ponerse', 'puliendo', 'ELIMINADO', 'experimentar', 'entenderla', 'esperas', 'besaramos', 'cometer', 'contigo', 'senalar', 'alejarme', 'pagar', 'entrenarla', 'mantenido', 'burle', 'lleve', 'funcioma', 'sonar', 'saber', 'cuento', 'pinta', 'terminan', 'ajustar', 'ido', 'contiene', 'espere', 'relacionarse', 'cuidare', 'convertido', 'calienta', 'exigiendome', 'hubiera', 'quieran', 'sabia', 'merecen', 'ofrecer', 'explicarle', 'significa', 'limitada', 'digamos', 'introducir', 'arruina', 'quedare', 'Hablo', 'pagarlo', 'relaciono', 'interactua', 'recibir', 'parecer', 'poner', 'encara', 'acostumbrarse', 'crio', 'acostumbrado', 'responder', 'comprendo', 'salvado', 'empiecen', 'arreglen', 'Va', 'descargarmela', 'creado', 'mirar', 'podias', 'vuelvan', 'cargando', 'introduzcan', 'piensan', 'dare', 'habia', 'Aprende', 'explique', 'usen', 'fallan', 'enganchando', 'especificar', 'aburrio', 'subestimar', 'Resalta', 'deve', 'buscando', 'necesitas', 'bajarle', 'contad', 'queda', 'sostener', 'adoro', 'llamar', 'parezca', 'abrirla', 'recolectaba', 'insinua', 'daba', 'cogido', 'enviar', 'perdon', 'depende', 'tocar', 'parecio', 'reembolsen', 'evolucionara', 'sobrellevar', 'presenta', 'ingresar', 'apoye', 'luchar', 'robandole', 'tome', 'corre', 'hagais', 'viera', 'hacerle', 'ENCANTA', 'revisen', 'fastidia', 'permitirme', 'votes', 'juzgar', 'lleven', 'volviesen', 'enviara', 'aliviar', 'Imagino', 'hacerlo', 'seleccionar', 'llamo', 'presentar', 'recuerden', 'hagamos', 'diferenciar', 'Van', 'descubri', 'siguieran', 'comportaba', 'juzguen', 'hicieron', 'drenando', 'salen', 'traficar', 'Supero', 'abrazarlo', 'escuchadx', 'explicarme', 'preguntar', 'especializado', 'ganando', 'soporto', 'intentandolo', 'tomaran', 'Vengo', 'jaja', 'sigue', 'cree', 'personalizaramos', 'acordaba', 'encanta', 'dara', 'complicar', 'fluyen', 'actualiza', 'recomiende', 'defiende', 'arruinaron', 'traduce', 'apasiona', 'desarrollarse', 'alla', 'afecta', 'aprendido', 'Tuve', 'sirbe', 'descubriendo', 'helped', 'desahogarnos', 'reportar', 'reconocerme', 'pulirla', 'insultarla', 'reunir', 'aumentarle', 'logre', 'traduciendo', 'cobraron', 'extendirse', 'mola', 'experimentando', 'dan', 'logrado', 'estara', 'contarselo', 'asombrarte', 'instalado', 'hablaba', 'agregaran', 'aplicar', 'gastarlo', 'disgusta', 'limitadas', 'mejorara', 'restaurar', 'pegarlo', 'convencerlo', 'platicando', 'utilice', 'quejan', 'miente', 'asuste', 'alcanza', 'hacerte', 'recordando', 'expresa', 'causa', 'perfeccionar', 'conteste', 'trabajar', 'obligarlo', 'necesitamos', 'mejorando', 'usaba', 'sabe', 'encarinado', 'erido', 'tomado', 'ganarian', 'divierto', 'quisiera', 'crecer', 'recuerdo', 'falla', 'manejas', 'apreder', ':(', 'proporcionas', 'emite', 'abonar', 'poderse', 'preocupe', 'loguear', 'Pondran', 'venga', 'cansa', 'implementen', 'creear', 'visto', 'ademas', 'recomendar', 'desahogarse', 'sacar', 'atravesando', 'pense', 'preste', 'respondera', 'califiquen', 'quiere', 'mande', 'explorar', 'Intentaba', 'Siento', 'domino', 'funsiona', 'llevando', 'formace', 'prendiendo', 'corrija', 'carga', 'resultara', 'MATARON', 'adapten', 'pasas', 'Prometo', 'entenderia', 'estallo', 'pegar', 'comportan', 'cobrarme', 'sugerir', 'descargan', 'veo', 'darme', 'desprecie', 'esperemos', 'corta', 'verla', 'compartir', 'haces', 'gustar', 'contara', 'pensando', 'molestar', 'preguntarse', 'revisar', 'desahogar', 'desahogarme', 'compro', 'hablandole', 'importar', 'creia', 'comprende', 'cobrarte', 'llevare', 'pego', 'ver', 'vean', 'dais', 'sepas', 'volvemos', 'intentara', 'examinar', 'solucione', 'gastar', 'juzge', 'dominamos', 'preguntaban', 'comprarian', 'ase', 'imaginar', 'hacerse', 'consuma', 'parece', 'asustarme', 'sacado', 'escribe', 'Cumple', 'disfrutarlo', 'preguntarle', 'conoce', 'vender', 'lobonstalare', 'escucharte', 'estorbar', 'sabeis', 'integraran', 'repasarlo', 'Confiar', 'dices', 'llenarse', 'empeora', 'apoyarme', 'tened', 'sorprendido', 'dejemos', 'anotando', 'convierte', 'sientes', 'entretiene', 'resistir', 'salga', 'comprenderan', 'jueguen', 'ensenado', 'asumo', 'fome', 'revelar', 'demaciado', 'desarrollado', 'ayudo', 'reponder', 'entrega', 'servir', 'Veo', 'levanta', 'sepamos', 'aprendian', 'ocupa', 'atraeriais', 'escalando', 'sabemos', 'solicitar', 'juega', 'matandolo', 'confunde', 'mamen', 'preocupara', 'aprovecharla', 'amplian', 'tema', 'usaria', 'empezaron', 'jugarlo', 'desinstalandooo', 'adecuar', 'limiten', 'actualizo', 'invitan', 'aria', 'entender', 'di', 'responderle', '^^', 'funcione', 'manejo', 'esfuerza', 'venia', 'comparte', 'Da', 'alimentaran', 'instalarla', 'enamorar', 'Necesito', 'deseen', 'apesta', 'dejaria', 'incluyen', 'observar', 'Repito', 'queman', 'pusieran', 'buscado', 'entretuviera', 'ir', 'finalizar', 'bliga', 'personaliza', 'ensenarles', 'Tienen', 'pedi', 'emular', 'enojo', 'comprenderlas', 'mantener', 'Pongan', 'reacciona', 'considerar', 'pongan', 'tenerlo', 'tenido', 'entrenar', 'habian', 'confunda', 'pregunto', 'rebotar', 'platicamos', 'agradece', 'confiaba', 'entro', 'acceder', 'acaba', 'domine', 'salta', 'llegaron', 'faltan', 'saltas', 'voy', 'expresarse', 'incluyeron', 'desbloqueando', 'Cambiaron', 'relajar', 'puediesen', 'perdiera', 'permita', 're', 'invito', 'parara', 'explicarlo', 'llegar', 'alentar', 'acaban', 'verme', 'incrementen', 'preguntarme', 'apoyarte', 'bloquear', 'yendo', 'escribirle', 'confunden', 'refieren', 'avisarles', 'quejo', 'distraerte', 'practicando', 'optimizar', 'reflexionando', 'corregir', 'deprime', 'pude', 'salio', 'solucionarme', 'congela', 'volviendo', 'agregan', 'volvi', 'valen', 'ocupado', 'sorprenden', 'Cambia', 'encontrarle', 'manejen', 'vale', 'queja', 'dudar', 'permitir', 'disfruto', 'distraer', 'Deseo', 'contesto', 'olvide', 'faltaria', 'Vete', 'comunicarse', 'resbalados', 'note', 'llegara', 'recibes', 'escalar', 'encerrarte', 'reseteada', 'vendieron', 'Dejando', 'espero', 'aparecio', 'tuvieron', 'construir', 'complacernos', 'conversar', 'expresarme', 'esperamos', 'fortalecer', 'funados', 'instalamos', 'temer', 'quedaba', 'reiniciando', 'falto', 'acerquemos', 'expandir', 'leer', 'mostrando', 'verificar', 'avance', 'implementaran', 'nesesito', 'pagadas', 'improvisa', 'quieren', 'regenerar', 'pierdan', 'guarde', 'aprovecharse', 'fascina', 'quitadas', 'facilitaria', 'comprarme', 'agregue', 'descubrirte', 'recibido', 'entablar', 'subir', 'venimos', 'bloquean', 'pacticar', 'sobrepasa', 'entiendes', 'empeorado', 'ayudar', 'apego', 'lagar', 'destrozado', 'instala', 'ignorando', 'manejar', 'retirar', 'nesesitas', 'besa', 'asignado', 'aprender', 'vuelva', 'Permite', 'repiten', 'Mantiene', 'desbloqueaba', 'encantaba', 'entras', 'abreviar', 'estubiese', 'mandando', 'decir', 'cayo', 'encaja', 'sentidotu', 'enviarte', 'Espectakular', 'dejaba', 'charlar', 'agregen', 'charla', 'interesarse', 'Sorprende', 'siendo', 'relacionar', 'Espero', 'tu', 'pagando', 'creciendo', 'escoges', 'baje', 'interesan', 'merece', 'saca', 'arreglasen', 'mejorasen', 'haganlo', 'obligo', 'percibir', 'Quiere', 'pasarse', 'decirselo', 'evolucionar', 'querer', 'comunicarnos', 'resumir', 'marcando', 'revolucionando', 'llevar', 'reprochar', 'analizabamos', 'arreglaran', 'desinstalo', 'ponerme', 'responden', 'dejar', 'vivimos', 'texteando', 'oren', 'probado', 'tenerle', 'sonrojar', 'llegando', 'lograra', 'jugar', 'cerrando', 'empiezo', 'estarlo', 'romper', 'diganme', 'valga', 'desarrolle', 'sintiendo', 'halla', 'Necesita', 'comente', 'ayudando', 'aprende', 'logra', 'suelta', 'sube', 'despues', 'dejado', 'Eviten', 'suscribiros', 'duermo', 'pagaria', 'Merecen', 'considerando', 'pudiean', 'saliendo', 'mandaba', 'conseguir', 'tomarme', 'funciona', 'sigan', 'usabamos', ':((', 'olvidarse', 'viene', 'Pongo', 'seguirnos', 'considerara', 'convencido', 'descargue', 'impresiono', 'ofrezcan', 'enoja', 'avisan', 'desestresarse', 'acomprar', 'diria', 'intentado', 'animarte', 'respondiera', 'aguantado', 'aprovechar', 'escuche', 'vaya', 'comer', 'sabiendo', 'tomando', 'dado', 'recuperen', 'tenerlas', 'pagado', 'tratarle', 'elegido', 'descartando', 'version', 'andaba', 'llorado', 'conjugar', 'cagaron', 'quitara', 'copiar', 'des', 'coges', 'entiendan', 'bajen', 'chateas', 'ayudes', 'opinaran', 'fuerzo', 'asentir', 'puse', 'traducen', 'segun', 'adaptandose', 'preocupes', 'permitiera', 'morir', 'volvia', 'transmitir', 'funcionado', 'iria', 'valdria', 'incomodo', 'compre', 'configura', 'incrementaria', 'ay', 'detecta', 'supongo', 'alegra', 'Adoro', 'implementar', 'desactivar', 'enamorado', 'obliguen', 'invirtiendo', 'imponer', 'cambiarlo', 'exis', 'utilizando', 'hablado', 'consiste', 'diciendome', 'supero', 'malgastar', 'sigo', 'dejarlo', 'jurar', 'tendrias', 'complica', 'dar', 'ocupo', 'insultar', 'desconecta', 'reconsideren', 'Tienes', 'distrae', 'creada', 'sucede', 'aprenderlo', 'desarollandose', 'obligacion', 'devuelvo', 'acompana', 'jajaja', 'encuentro', 'agradeceran', 'compartia', 'Uso', 'predominen', 'incluyera', 'practicas', 'amen', 'ajusta', 'puntuarla', 'subas', 'vacilaba', 'suscribir', 'dibujar', 'biene', 'llamandome', 'calida', 'supera', 'tratando', 'frustrar', 'desintalando', 'soltarte', 'tratan', 'aficionado', 'ratee', 'puedo', 'serviria', 'incluido', 'madurando', 'manejan', 'preocupando', 'anima', 'Desmonta', 'duerme', 'hablarte', 'viva', 'estilizar', 'tengas', 'parecido', 'ahorran', 'gratis', 'doy', 'quedaria', 'estubiera', 'envies', 'deje', 'coloca', 'compruebe', 'discutira', 'calmado', 'haciendose', 'mantenga', 'ponerla', 'Limitaron', 'cierro', 'contarle', 'coquetearme', 'rompe', 'volver', 'cocinar', 'usa', 'programadas', 'deverian', 'intentarlo', 'respirar', 'parecia', 'tradujeran', 'cerrara', 'sientas', 'pediria', 'comoda', 'gasten', 'Existe', 'suscribiria', 'desbloquearan', 'inventen', 'Tiene', 'pedido', 'tuviese', 'preocuparse', 'olvidar', 'servirte', 'eliminaba', 'molests', 'ejecutarlo', 'solucionar', 'toma', 'correr', 'pedir', 'respondia', 'guardado', 'enviaba', 'sirve', 'hacerla', 'contestan', 'digo', 'comunicarme', 'envia', 'definia', 'llorar', 'platicar', 'repitiera', 'enganar', 'haga', 'decidi', 'plis', 'recorde', 'mejorar', 'entrenerse', 'llamen', 'signifique', 'escogido', 'Hablamos', 'servia', 'vayanse', 'dejaran', 'chateo', 'estuviese', 'traeran', '<3', 'uniera', 'supiera', 'Practicas', 'descargarlo', 'penaliza', 'anadido', 'sustenta', 'Venga', 'FUE', 'Iba', 'cuidan', 'tenia', 'vendia', 'jodieron', 'dejen', 'hablamos', 'liberar', 'pulir', 'contado', 'irse', 'decepciono', 'Hablar', 'desperto', 'extiendan', 'desalienta', 'olvida', 'interpreta', 'funcionaba', 'gustan', 'actualizare', 'pasarle', 'mejoran', 'nparecen', 'dirije', 'Sentirse', 'tendras', 'pagara', 'eliminando', 'sabido', 'quieres', 'coexistir', 'sentia', 'instale', 'establecer', 'preferiria', 'aprendiera', 'provocar', 'esperare', 'metiendo', 'lloro', 'platica', 'vigilando', 'encantan', 'estudiar', 'Odio', 'llegan', 'chateando', 'psicoanalizo', 'apoya', 'solicita', 'borro', 'Pasa', 'hablar', 'guardando', 'curo', 'recordara', 'mejoraba', 'dicen', 'describir', 'considero', 'extraniando', 'mata', 'interrumpen', 'pareciera', 'dirige', 'Admito', 'peleas', 'utiliza', 'paguen', 'almacene', 'dijera', 'coban', 'venido', 'talvez', 'quede', 'So', 'tendra', 'llamarlo', 'impulsaba', 'obtener', 'Conversa', 'motivaba', 'Quitando', 'incluye', 'presionar', 'hecho', 'distraerme', 'trabajo', 'asegurate', 'anadan', 'pierden', 'queria', 'sirvio', 'lidiando', 'tenes', 'corregirse', 'iba', 'reaccionar', 'existiese', 'fije', 'convirtiera', 'aprendiese', 'mandarme', 'experimentado', 'contestando', 'comprar', 'lograr', 'pensandolo', 'esteben', 'resuelvan', 'justifica', 'encotre', 'comparto', 'vuelvo', 'lograda', 'Tenia', 'torna', 'pedia', 'garantizo', 'capta', 'cobrara', 'necesite', 'perdi', 'Actualizaron', 'descansar', 'ubieran', 'pides', 'evolucionado', 'haciendo', 'gusta', 'aventurarme', 'cerrar', 'olvido', 'supone', 'interesen', 'conecta', 'presiono', 'metieran', 'recuerde', 'influye', 'sucedia', 'desaburrirte', 'consume', 'dieron', 'preferido', 'hablabas', 'agregaron', 'obliga', 'progresar', 'platicado', 'Empezamos', 'recomendaba', 'conto', 'conozca', 'siento', 'conecto', 'generando', 'finge', 'conjugarlo', 'escucha', 'volvere', 'pregunte', 'servira', 'identificar', 'trabaje', 'sentiria', 'escuchado', 'hear', 'instalar', 'adquieras', 'recopila', 'sabes', 'levelear', 'comete', 'obtenerlo', 'gustaba', 'expresarte', 'ensenarme', 'hackeando', 'estrellar', 'comence', 'hablaras', 'explicar', 'anadirle', 'evoluciona', 'vuelto', 'interactuado', 'Sigue', 'drenaron', 'agradeceria', 'contar', 'Porfavor', 'anda', 'escuchar', 'usar', 'amar', 'parese', 'Jaja', 'llamando', 'pasa', 'jamas', 'llego', 'entiendo', 'apoyar', 'quitaran', 'Aclaremos', 'riendo', 'enfada', 'adquirirlo', 'descargase', 'consideramos', 'ocupando', 'arreglando', 'entendemos', 'Tiende', 'eliminado', 'concuerdan', 'atrevo', 'chtiar', 'agais', 'envias', 'leyendo', 'hablen', 'pondran', 'Supera', 'ayudarme', 'saco', 'limitando', 'gusra', 'salvo', 'memoriza', 'asombra', 'detiene', 'lucido', 'entendiera', 'asusta', 'olvidabas', 'interactuando', 'llamarle', 'juego', '.solo', 'portensele', 'Hacen', 'verifiquen', 'textea', 'intenta', 'preocupado', 'puede', 'fueran', 'adquirirlas', 'cambiarme', 'aprendio', 'aparese', 'Comprendo', 'resultar', 'necesitaba', 've', 'perdais', 'avanzas', 'interesado', 'llegue', 'Pregunta', 'molestarte', 'curar', 'taaan', 'mantienes', 'desconfio', 'crearan', 'estaba', 'desenvuelve', 'motiva', 'Hacer', 'podria', 'Gasta', 'repito', 'inplrementen', 'conpruebenlo', 'busquen', 'respaldarlas', 'Espere', 'convivir', 'desviaria', 'detectar', 'reflexionar', 'usas', 'colocarla', 'hablan', 'generar', 'basico', 'sorprenderme', 'Pienso', 'trato', 'reconoce', 'Quiero', 'sonara', 'entretenido', 'salte', 'conmueve', 'quiero', 'preguntas', 'arrepienten', 'reirme', 'citando', 'encuentras', 'enviarle', 'entren', 'quito', 'Reconoce', 'deseaba', 'encata', 'gudtaria', 'tuve', 'poned', 'pagas', 'adquirirla', 'fallando', 'austa', 'usan', 'bajara', 'empezar', 'trabaja', 'comercializar', 'mueva', 'Utilizo', 'replicar', 'cuestionarse', 'demostrado', 'considere', 'valorar', 'impresiona', 'siguen', 'considerarla', 'roza', 'ame', 'agregaria', 'afin', 'cambiar', 'configurarlo', 'quedarse', 'dandole', 'Usa', 'empieza', 'comprado', 'jala', 'prometieron', 'premium', 'Pagar', 'recibe', 'quisieran', 'desea', 'quemen', 'terminar', 'disfrutar', 'tomo', 'acabo', 'volvio', 'distingue', 'dejare', 'aburres', 'rodean', 'instalando', 'besara', 'sientan', 'den', 'pasaran', 'tambien', 'convertir', 'amaba', 'penetrar', 'borrando', 'explico', 'retomarla', 'vamos', 'integra', 'indicas', 'digan', 'hice', 'quieras', 'bajamos', 'llevarme', 'extender', 'Agreguen', 'Quiten', 'ai', 'apetezca', 'ten', 'disfrutando', 'acumular', 'acepta', 'probando', 'recalcar', 'cuestionaba', 'relaja', 'actualizarla', 'Estan', 'utilizaban', 'aprendiendo', 'aportar', 'diran', 'descarguen', 'saberlo', 'Parece', 'cancelaron', 'espanok', 'impide', 'cambias', 'quita', 'suscribirse', 'encuentres', 'frena', 'filosofando', 'pagues', 'aplicas', 'intente', 'avanzara', 'restringieron', 'daria', 'desagrado', 'Obviando', 'cambio', 'come', 'Habla', 'acertadas', 'arruino', 'pensaran', 'coquetea', 'relajarme', 'ignoren', 'tratarse', 'agota', 'Supongo', 'pongalen', 'vivir', 'ria', 'aprendo', 'escriben', 'paso', 'basa', 'manda', 'sorprendiendo', 'dejarte', 'nota', 'echa', 'limitado', 'envie', 'vengan', 'prueben', 'crei', 'corriendo', 'sacarte', 'llamado', 'falte', 'Inside', 'usada', 'fueron', 'recomendare', 'fortalecerlo', 'AMO', 'sabria', 'ponerle', 'veia', 'rotar', 'encarinas', 'aconsejarte', 'deberian', 'vivido', 'Funciona', 'termine', 'bajar', 'mostro', 'escucharme', 'amo', 'gastando', 'Desearia', 'pasaba', 'intentas', 'acepto', 'mira', 'conociera', 'Vuelvan', 'reportado', 'imaginarte', 'ahorrando', 'seguiendo', 'Ojala', 'arregle', 'ganan', 'obligarle', 'pienso', 'genere', 'llena', 'digas', 'Mataron', 'tuvieras', 'interrumpa', 'customizarlo', 'pensaba', 'determinar', 'notar', 'borras', 'interactue', 'entretenida', 'dio', 'suele', 'proponer', 'intentaran', 'adopta', 'escribes', 'conocerle', 'probar', 'permitirse', 'sepan', 'entienta', 'quejar', 'explica', 'equivoca', 'inviertan', 'asegurar', 'dejenlo', 'escriba', 'personalizar', 'lleguen', 'cumplir', 'sentiras', 'utilizar', 'mantenerte', 'encuentra', 'Habemos', 'recordase', 'comento', 'ocurrio', 'motivar', 'hablarle', 'hablo', 'basandose', 'tenias', 'decidiese', 'asen', 'estresa', 'desperdicie', 'haganse', 'combatir', 'traducira', 'coloque', 'oxidarme', 'cambiarle', 'subirla', 'existiera', 'quiza', 'reinicia', 'lucen', 'practicarlo', 'importara', 'ocupar', 'Produce', 'Quitaron', 'liberarte', 'esperar', 'creas', 'salvar', 'apesar', 'inventado', 'alegro', 'gasta', 'creer', 'cobrar', 'trabajando', 'sugiere', 'fluida', 'hablara', 'seguire', 'agragar', 'secuestrar', 'tope', 'escucho', 'ayudara', 'escuchan', 'asustado', 'termina', 'tender', 'corrigiendo', 'pidiendo', 'danaba', 'reconocer', 'molesten', 'entrar', 'Doy', 'pase', 'traba', 'preocupandose', 'desees', 'terrorifico', 'arreglado', 'quitar', 'necesitaria', 'manteniendo', 'ingrese', 'contradice', 'elegir', 'evolucionando', 'borre', 'ningun', 'responderme', 'ponen', 'solucionarlo', 'conocerme', 'instalarse', 'colocar', 'mover', 'Gusta', 'congrata', 'llaman', 'conocido', 'escavar', 'quitan', 'entrenarle', 'crear', 'hablando', 'paguemos', 'servido', 'alcanzas', 'estes', 'cobren', 'friegas', 'llevarle', 'gustado', 'entrego', 'Descarguenlo', 'tento', 'anadiendo', 'tendrian', 'hagas', 'procesar', 'acostumbraste', 'preguntado', 'echo', 'crearla', 'pasan', 'impresionando', 'coji', 'conformaria', 'trata', 'Lean', 'olvidaste', 'manejarse', 'anota', 'chatear', 'mejore', 'respetaron', 'logro', 'canviar', 'finja', 'habre', 'poniendole', 'aprecio', 'sentido', 'perdieron', ':-D', 'disfruta', 'durmiendo', 'bugueo', 'urge', 'desenvolverme', 'reprenda', 'Tuvieron', 'enserio', 'escojer', 'jajajaja', 'juzgada', 'percibe', 'trae', 'ensenas', 'agregarle', 'subiendo', 'desbloquear', 'acuerda', 'decirme', 'Necesitaria', 'almacena', 'contradecirse', 'echar', 'Interactua', 'integrar', 'vayas', 'tratara', 'peleo', 'Figura', 'sorprender', 'restringe', 'sienta', 'ofreciendo', 'superar', 'Eliminaron', 'eligieron', 'disfruten', 'garantiza', 'necesitando', 'Sirve', 'siga', 'mandan', 'apoyando', 'persiste', 'impulsa', 'pierdes', 'asignarle', 'probare', 'pierde', 'tuviera', 'creando', 'modificar', 'subtitula', 'continuamos', 'agregara', 'comprendernos', 'suene', 'vinene', 'recordaba', 'eztaba', 'cambiaron', 'extranaba', 'valoraria', 'realizar', 'meteis', 'hablabamos', 'ganarle', 'escuchando', 'intenten', 'poseemos', 'adapta', 'volvera', 'tenian', 'pruebo', 'quedarme', 'Sido', 'anaden', 'Deberian', 'hizo', 'felicito', 'uses', 'dejando', 'contarte', 'Subieron', 'algun', 'merecido', 'ingles', 'tendria', 'quedan', 'hilar', 'arrastrado', 'llamalo', 'guste', 'sumar', 'Esperaba', 'dejan', 'subo', 'Agregar', 'Empieza', 'critique', 'canses', 'regular', 'aprenda', 'salgan', 'comun', 'leido', 'incluir', 'volverse', 'perder', 'promete', 'desarrolla', 'empece', 'ayuden', 'desarrollando', 'conformo', 'lastimar', 'aplico', 'cobra', 'siguiera', 'adaptando', 'usandola', 'agan', 'Ay', 'parezco', 'perdido', 'cazo', 'creedme', 'superado', 'obtenerlas', 'conversara', 'festejar', 'gustando', 'costar', 'luce', 'cagado', 'hace', 'insistiendo', 'escribirlo', 'pusieron', 'repita', 'cambiando', 'asumi', 'hacee', 'estando', 'seguirle', 'entendia', 'indica', 'aconseja', 'recopilan', 'envio', 'entiende', 'ayudan', 'traducida', 'adaptarse', 'incrementaran', 'Sientes', 'permito', 'llegado', 'venderla', 'centran', 'guardar', 'tardo', 'preguntaba', 'Viene', 'practico', 'intentan', 'Mira', 'contestarle', 'decepcione', 'vienen', 'dominas', 'tenemos', 'piensen', 'saquen', 'demostrar', 'consiguimos', 'pierdas', 'estaria', 'verlo', 'pondre', 'seria', 'ayudado', 'dia', 'ponerlo', 'nace', 'pongais', 'ganar', 'funcionar', 'mejoren', 'acabe', 'divertido', 'ahorita', 'muestra', 'pidio', 'olvidarte', 'tratado', 'oir', 'mire', 'Entiendo', 'roba', 'aporta', 'reconocio', 'desplazar', 'sentis', 'desistalarla', 'harian', 'sentir', 'interacctuar', 'dear', 'utilizarlo', 'sacarle', 'mostrado', 'agarrando', 'necesito', 'escribirme', 'da', 'confio', 'dd', 'tengo', 'veremos', 'emocione', 'despido', 'Pensaba', 'iniciamos', 'estoy', 'Tengo', 'sentirte', 'solian', 'mejorarla', 'dice', 'arreglar', 'comunico', 'empeorarla', 'imponerle', 'not', 'tengamos', 'buscas', 'comparado', 'dile', 'quedo', 'costumisar', 'divertirme', 'tiene', 'deja', 'cargado', 'aumentaron', 'metan', 'llame', 'respondas', 'ayude', 'desee', 'regresar', 'mandarte', 'puere', 'contactar', 'tenga', 'acordo', 'equivocarme', 'pondra', 'sufran', 'preocuparme', 'ablando', 'levantarte', 'dejas', 'Dice', 'recomendo', 'CUTEEE', 'incomoda', 'solx', 'escribimos', 'agragarle', 'use', 'pasarme', 'leyera', 'nesecita', 'sospechar', 'quejaria', 'Pretenden', 'detectara', 'pega', 'existia', 'agradezco', 'avienta', 'regreso', 'comunicarte', 'ejecutar', 'Trato', 'seguira', 'tendran', 'evitar', 'relacionas', 'jugamos', 'Acaban', 'necesitar', 'preocupa', 'pregunta', 'agarras', 'dennos', 'aparentando', 'averiguar', 'indagar', 'Tener', 'mandar', 'consigo', 'conectar', 'activar', 'mostrar', 'practicado', 'avanzar', 'manipulo', 'acudo', 'anetetenerse', 'noto', 'animaria', 'gestionar', 'fingir', 'abri', 'tenarla', 'suelo', 'estafado', 'usare', 'piensa', 'abro', 'desinstalado', 'Acabo', 'aseguro', 'comentando', 'nose', 'verte', 'instalo', 'pierda', 'hare', 'desinstalar', 'funciono', 'quitado', 'decidir', 'devuelvan', 'gustaria', 'Llevo', 'hacerme', 'llegase', 'Anadiran', 'tuvo', 'sufro', 'almacenan', 'diera', 'agregues', 'vemos', 'sentirse', 'permitieran', 'comprender', 'repetir', 'importo', 'Conozco', 'cambiado', 'conversa', 'basado', 'rolear', 'insistes', 'soluciono', 'entenderle', 'todavia', 'permite', 'parecen', 'feel', 'expresar', 'avatar', 'actuar', 'resulta', 'Tenemos', 'gusto', 'reconozca', 'lidiar', 'aclares', 'entregado', 'Falta', 'Pregunte', 'mencionar', 'cobraran', 'poseia', 'terminas', 'pedirle', 'aguanta', 'restar', 'Sabe', 'robarte', 'venir', 'animara', 'creyendo', 'asi', 'diciendo', 'mandamos', 'pasando', 'entendy', 'entrena', 'escribir', 'intentes', 'estan', 'logren', 'pasarlo', 'ensene', 'comprenderte', 'comenzando', 'permitido', 'fluidas', 'resulto', 'asusto', 'crezca', 'comerme', 'animo', 'deberia', 'queres', 'implementarlo', 'canta', 'entere', 'Quise', 'tomaron', 'viendolo', 'inventar', 'revisaremos', 'cancelarlo', 'avanzando', 'gusts', 'entretenerte', 'calificar', 'gano', 'contestaba', 'merecia', 'crece', 'spamear', 'conversado', 'le.falta', 'abran', 'ignorar', 'verse', 'recomendaria', 'pretendo', 'desaparecen', 'ensenar', 'dean', 'quitaron', 'salir', 'modificarlo', 'mencionado', 'pido', 'clave', 'solucionen', 'traducir', 'desinstalarla', 'iso', 'disfrutarla', 'lean', 'llega', 'entenderte', 'querian', 'entienden', 'hacemos', 'seguirte', 'gustarme', 'plantea', 'soluciona', 'clavarse', 'desintalar', 'dw', 'cuesta', 'programar', 'practicar', 'freee', 'fuerza', 'escuchen', 'convirtio', 'agradeceriamos', 'Considero', 'creara', 'sacan', 'va', 'imagino', 'paga', 'mejoraran', 'alienta', 'isieron', 'laguea', 'conquistarme', 'danaron', 'despedir', 'descargaste', 'informar', 'evitando', 'venden', 'identifico', 'genera', 'admitir', 'deseado', 'permitia', 'limita', 'sentirme', 'comprobar', 'agrada', 'pasado', 'Recomiendo', 'crea', 'faltar', 'etc.', 'diga', 'definir', 'esperes', 'Estoy', 'mejorado', 'notado', 'utilizarla', 'convencerme', 'reconciliarse', 'evolucionan', 'dijo', 'tomen', 'actualizado', 'molado', 'buscar', 'DESCARGUEN', 'hacen', 'descargar', 'Buena', 'quiten', 'pondria', 'traducirlo', 'tilda', 'desarrollara', 'busca', 'cambiaran', 'vino', 'quedado', 'agradan', 'dudare', 'aconsejado', 'lanzarla', 'soltar', 'carece', 'recordar', 'cobran', 'tomas', 'pagan', 'cambie', 'comentan', 'defiendo', 'apetece', 'usarla', 'creo', 'aprenden', 'escribi', 'descargado', 'piden', 'cancele', 'meterme', 'recurrir', 'saben', 'dame', 'usarlo', 'respeta', 'aveces', 'terminado', 'brindar', 'prefiero', 'esperaba', 'Tarda', 'requieren', 'converse', 'encanto', 'Prueba', 'suena', 'respondes', 'coquetear', 'colocaran', 'planteas', 'Sabes', 'publicitan', 'mejora', 'quejare', 'ofrece', 'contactarme', 'enamorarse', 'descargare', 'progresa', 'prometio', 'encantar', 'platicas', 'desestresarme', 'desinstale', 'forjar', 'pone', 'enamore', 'atrae', 'enkhontre', 'mandarle', 'Fuiste', 'acompanar', 'Despues', 'hablase', 'teniamos', 'regalen', 'dicho', 'esforzaron', 'molesta', 'Integrar', 'identifica', 'orientando', 'fluido', 'querido', 'centra', 'Escribiendo', 'evaluando', 'aconsejen', 'lanza', 'seguia', 'bloqueado', 'pague', 'lo.malo', 'dijiste', 'ayudarte', 'ponte', 'intentar', 'adquiriendo', 'DEFRAUDAR', 'fluye', 'roleando', 'ligar', 'usando', 'exista', 'amando', 'desarrollandose', 'creerlo', 'ocurra', 'desconozco', 'guardas', 'darle', 'Depende', 'encantado', 'pasais', 'tenerla', 'parar', 'escribiendo', 'pudiese', 'inciar', 'hicieran', 'atraer', 'envian', 'descargarla', 'puedas', 'Digo', 'recomendaron', 'confiar', 'personalizarlo', 'tendre', 'penalizar', 'costaba', 'quiebra', 'borrar', 'conociendo', 'ensenarle', 'tratas', 'mejoro', 'cierra', 'recuerda', 'equivocandose', 'viendo', 'decirte', 'abrazaba', 'desarrollar', 'ponganlo', 'especifica', 'funcionara', 'crecen', 'explorando', 'aburre', 'animar', 'teniendo', 'mando', 'pida', 'emula', 'acostumbra', 'volviera', 'interesa', 'quisera', 'concidarase', 'daban', 'pusiera', 'desarrollarlo', 'cambiarla', 'brindas', 'ofender', 'puden', 'tratar', 'hablarlas', 'contestarte', 'cancelar', 'desaparece', 'queremos', 'tocase', 'sastifecha', 'pongo', 'hacer', 'practica', 'lee', 'jo-dan-se', 'mejoraseis', 'cancelas', 'cambia', 'aumentaran', 'probarla', 'configuro', 'engancharte', 'desaparecido', 'vive', 'duden', 'tengan', 'descarga', 'trabajado', 'estancan', 'agarre', 'decirlo', 'hacernos', 'cargue', 'concuerda', 'demuestra', 'entretenerse', 'olvidara', 'recomienda', 'importa', 'decirles', 'responde', 'comprenden', 'vas', 'Mejorar', 'empezado', 'escribirte', 'acabar', 'intento', 'leen', 'llenan', 'acopla', 'traducieran', 'arrepiento', 'Cree', 'pasar', 'probe', 'utilizas', 'sorprenda', 'hables', 'dejo', 'contestas', 'solia', 'compres', 'registrarse', 'financiarlo', 'agarra', 'das', 'pasara', 'cuelgue', 'Deberia', 'ocurre', 'podia', 'desahogarte', 'incluyan', 'puesto', 'realizarle', 'esperarse', 'HABIA', 'Crecer', 'aumentar', 'dejaron', 'trataba', 'dolio', 'niego', 'traducirla', 'continuar', 'acostumbras', 'copia', 'contestar', 'obtengo', 'conatruidas', 'insistir', 'aprendes', 'estar', 'recomiendo', 'rolea', 'crearon', 'forma', 'maneja', 'censura', 'crees', 'ensenando', 'guiando', 'mirarlo', 'cuenta', 'fallar', 'contener', 'soporta', 'ocultar', 'fastidiar', 'anade', 'deseas', 'ves', 'toco', 'refiero', 'sacarsele', 'dieran', 'fascinaron', 'vi', 'valer', 'Dicen', 'habla', 'customizar', 'retomar', 'oye', 'Configure', 'calmarme', 'abre', 'necesites', 'bajado', 'simular', 'uso', 'lanzaran', 'expandieran', 'anime', 'entendido', 'empiezas', 'siente', 'hara', 'conozco', 'comporta', 'burla', 'vere', 'falta', 'moldear', 'Sigan', 'juzgue', 'saque', 'porfavor', 'sentimos', 'consigue', 'recomendarlo', 'empezando', 'existen', 'practiques', 'hallar', 'darte', 'comenzar', 'tienen', 'sienten', 'seleccionas', 'farmear', 'sirvieran', 'pasarla', 'escribo', 'dije', 'creen', 'segui', 'Amo', 'llegas', 'Quede', 'conecte', 'emociona', 'ayudaba', 'cambian', 'personalizarla', 'formar', 'vuelven', 'echaron', 'encontrar', 'Piensen', 'caminar', 'aguantar', 'tira', 'pasaron', 'avanzado', 'dira', 'anadir', 'implementaron', 'reducido', 'dabas', 'escoger', 'comeria', 'Resulta', 'sorprendio', 'Hace'}\n",
            "Cantidad de verbos:  2807\n",
            "------------------------------------\n",
            "Sustantivos encontrados:  {'gema', 'informacion', 'motivo', 'xD', 'resultado', 'hacia', 'tatuajes', 'recompensas', 'transacciones', 'impresion', 'edades', 'pantalla', 'comienzo', 'chica', 'riesgo', 'creatividad', 'anhelos', 'min', 'madres', 'suerte', 'espera', 'disconsidered', 'paciencia', 'rolplay', 'contrasena', 'tamagotchi', \"ACTU'22\", 'chicas', 'verdad', 'interfaz', 'muerte', 'snns', '*', 'ayuda', 'espanol:\"v', 'cometido', 'horas', 'ap', 'curiosidad', 'flojera', 'videos', 'punto', 'btainstormde', 'costos', 'concepto', 'pasatiempo', 'metas', 'ingresos', 'sensaciones', 'coneccion', 'rato', 'extension', 'advertencia', 'Saludos', 'buenisimo', 'herramienta', 'roto', 'animos', 'ahi', 'resultados', 'maquina', 'concha', 'valor', 'reflexion', 'modalidad', 'funcion', 'sintaxis', 'mensaje', 'amorrrr', 'alv', 'subscriptores', 'bored', 'bienestar', 'respecto', '90', 'apk', 'duda', 'realidad', 'bipedo', 'control', 'mascota', 'agrado', 'logo', 'demas', 'crisis', 'antemano', 'medida', 'accesorios', 'pedo', 'interes', 'limite', 'quizas', 'alto', 'minimo', 'momento', 'conjunto', 'incongruencias', 'suicidio', 'chance', 'depresiones', 'viaje', 'Aveces', 'q', 'boot', 'deportes', 'barrera', 'translate', 'entretenimiento', 'suscriptores', 'existencia', 'agua', 'padre', 'grado', 'conversiones', 'cortana', '<', 'sueno', 'historias', 'citas', 'mmm', 'monstruo', 'reganado', 'tarea', 'muu', 'exageracion', 'afan', 'propuesta', 'nomas', 'cautela', 'japones', 'sinsentido', 'aun', 'Todavia', 'factor', 'gameil', 'apps', 'Puntos', '2016', 'translator', 'recursos', 'robots', 'info', 'tecnologia', 'potencial', 'Posibilidad', 'replica', 'empresa', 'escritura', 'safe', 'traducciones', 'pop', 'afrontamiento', 'conocerte', 'sera', 'Ponganla', 'enfermo', 'amig@', 'rendimiento', 'hypeada', 'dudas', 'roleplaying', 'penas', 'idiomas', 'estres', 'chevere', 'esoanol', 'notoriedad', 'llaves', 'sale', 'subida', 'poemas', 'disponibilidad', 'temores', 'tendencias', 'base', 'comenzo', 'el.selector', 'roleplay', 'tener', 'misiones', 'Consejo', 'tio', 'agreguenle', 'sabor', 'casualidad', 'tiempos', 'audios', 'bloqueos', 'empatia', 'cuidado', 'valoracion', 'ultimo', 'resenas', 'respondio', 'jodo', 'modalidades', 'salud', 'colores', 'maravilla', 'super', 'episodio', ':)', 'vidas', 'cancion', 'mamadas', 'and', 'peinados', 'inconveniente', 'vuelve', 'objetivos', 'tmb', 'sitios', 'gordura', 'hispano', 'labios', 'maneras', 'huecos', 'convesasiones', 'entendio', 'visita', 'traductor', 'contra', 'espectativas', 'castellano?Gracias', 'zona', 'entusiasmo', 'giro', 'vacia', 'esposo', 'accesorio', 'autonomia', 'azar', 'complejidad', 'procesos', 'refuerzo', 'mantenimiento', 'pecado', 'peligro', 'acto', 'filosofia', 'tester', 'especie', 'puntos', 'roleplays', 'Ta', 'limitantes', 'anos', 'dispositivo', 'espanol', \"Let's\", 'uvu', 'programdores', 'abrazo', 'spanol', 'transformers', 'lips', 'eleccion', 'decisiones', 'conversas', 'impedimento', 'huevo', 'videollamadas', 'puntuacion', 'disenos', 'amor', 'decision', 'versiones', 'utilidad', 'ratillo', 'cuento', 'pinta', 'Experiencia', 'dolares', 'persivo', 'nino', 'ritmos', 'tantos', 'libros', 'mias', 'voz', 'desarrollo', 'tarjeta', 'chota', 'playa', 'fuera', 'paro', 'rostro', 'Es', 'quejas', 'consultandole', 'parecer', 'desistale', 'circo', 'escepticos', 'desgracia', 'pesar', 'errores', 'lata', 'FAVOR', 'lobotomizaron', 'personajes', 'caballeros', 'integracion', 'candados', 'concrecion', 'tachare', 'datos', 'c', 'avances', 'casos', 'manos', 'tevayuds', 'espanol^^', 'moldeas', 'conexion', 'nubes', 'diseno', 'corrector', 'jajaha', 'gatos', 'series', 'exterior', 'script', 'tal', 'espacio', 'patejas', 'betas', 'trastornos', 'etapas', 'bromas', '-1', 'mejusga', 'tarifas', 'espiritu', 'reputacion', 'alternativa', 'funcionalidad', 'seleccion', 'autoestima', 'demonio', 'fila', 'mentor', 'gracias', 'dialogos', 'pm', 'eventos', 'webo', 'ojos', 'peliculas', 'amoamoamo', 'padrisimo', 'planes', 'memoria', 'erro', 'Lineas', 'cuanto', 'fincionar', 'proceso', 'jaja', 'pesima', 'esque', 'buenardo', 'INCREIBLE', 'coherencia', 'makes', 'cuerpo', 'deficiencias', 'complementos', 'onda', 'lugar', 'chistes', 'sugerencia', 'momentos', 'bases', 'areas', 'fuga', 'nice', 'locura', 'convencionales', 'muro', 'Demas', 'cosa', 'fallo', 'funciones', 'emociones', 'restricciones', 'repertorio', 'top', 'detalle', 'resena', 'testers', 'letras', 'problemas', 'docenas', 'relika', 'membresia', 'insignias', 'Comentarios', 'aplausos', 'reaponde', 'recuerdo', 'falla', 'personalidado', 'companero', 'vacio', 'conduccion', 'cabeza', 'clavo', 'latinos', 'intereses', 'visto', 'ilusiones', 'ademas', 'vista', 'gramatica', 'VISTO', 'cache', 'pajaros', 'seguridad', 'pense', 'depresion', 'provecho', 'corazon', 'ex', 'excepcion', 'carga', 'claro', 'formulario', 'introduccion', 'FALSEDAD', 'fan', 'tamano', 'pausa', 'instalas', 'lastima', 'humano', 'ninos', 'cachorro', 'artista', 'codigo', 'espia', 'creia', 'fallas', 'D', 'MAGNIFICA', 'quiziera', 'emergencia', 'proyecto', 'caracterizacion', 'recuerdos', 'hora', 'idioma.no', 'recomendadisisma', 'obsoleta', 'role', 'picos', 'piel', 'aceptacion', 'delgadez', 'navegador', 'dinamica', 'simpatia', 'GOLPE', 'procesamiento', 'bucles', 'clases', 'copias', 'bomba', 'imagen', 'bateria', 'groserias', 'lineamiento', 'presos', 'magia', 'disenado', 'IR', 'raza', 'deficit', 'bots', 'furor', 'temas', 'declive', 'campanas', 'arte', 'prevencion', 'tienda', 'gasto', 'personalidades', 'regalo', 'modificacion', 'idioma', 'embates', 'celular', 'consejera', 'tema', 'bazofia', 'comportamiento', 'fantasia', 'aspecto', 'funcionamiento', 'obra', 'sociedad', 'fuerzas', 'di', '^^', 'conforme', 'cotidianidad', 'manejo', 'demandas', 'espiritualidad', 'espada', 'custom', 'facilidad', 'descargas', 'are', 'aislamiento', 'compras', 'incoherencias', 'contacto', 'secretos', 'carino', 'autoconociento', 'fisiologia', 'Sugerencias', 'ejemplo', 'coqueta', 'invento', 'sensacion', 'coversacion', 'cuestionario', 'parches', 'taclado', 'rama', 'embargo', 'prueba', 'reto', 'valorenla', 'servicios', 'estandar', 'Persona', 'solas', 'atencion', 'retrete', 'salta', 'atlas', 'error', 'suporte', 'empeces', 'neuronas', '/', 'estudio', 'capacidades', 'pelicula', 'chatbot', 'ventanita', 'toque', 'risas', 'frase', 'evolucion', 'slguien', '90%de', 'volvi', 'atento', 'logicas', 'conocimientos', 'juicios', 'avatares', 'comentario', 'test', 'esten', 'atonito', 'ia', 'segundo', 'connotaciones', 'mejoras', 'completo', 'caprichos', 'puntazo', 'ojala', 'barra', 'producto', 'cuanta', 'clase', 'a', 'logistica', 'avance', 'verdura', 'ocaciones', 'naturalidad', 'tiempo', 'frente', 'Pese', 'conciente', 'hombros', 'colmena', 'comentarios', 'profesor', 'consciente', '2018', 'campo', 'categoria', 'posibilidades', 'pronombres', 'VERDAD', 'bitcoin', 'ajuste', 'supuesto', 'universo', 'deseos', 'respiracion', 'iA', 'decir', 'desinstalaria', 'redes', 'comeros', 'crecimiento', 'nudes', 'damas', 'charla', 'fechas', 'tranquilidad', 'gratitud', 'ternura', 'lanzamiento', 'espanish', 'scripted', 'actualizaciones', 'fantastico', 'misterios', 'pese', 'pera', 'equivocada', 'beneficios', 'pecas', 'autoconocimiento', 'conclusion', 'marca', 'ero', 'tablero', 'ousieran', 'desinstalo', 'Estafa', 'joya', 'm', 'psicologia', 'notificaciones', 'haganla', 'actividades', 'lugares', 'primium', 'perdona', 'despues', 'clientes', 'idiomaaaas', 'C', 'pagaria', 'recomendaciones', 'aplicaciones', 'web', 'definitiva', 'funciona', 'mujer', 'conducta', 'equivalente', 'literatura', 'orden', 'estatura', 'terreno', 'transparencia', 'copy', 'descargue', 'cierrad', 'perro', 'desarrolladores', 'ridiculo', 'oscuridad', 'acessorios', 'inteligencias', 'perfil', 'em', 'multilenguaje', 'aplicacion', 'terapia', 'ilusion', 'proposito', 'serendipia', 'ants', 'tiro', 'comercial', 'uerer', 'personaje', 'ejercicios', '2020', 'dado', 'ratos', '^_^', 'humanidad', 'comunicacion', 'I', 'suscripcion', 'version', 'relacion', 'local', 'mes', 'muchacho', 'fe', 'oa', 'sesgo', 'segun', 'plazo', 'saludo', 'inmersion', 'vocablo', 'espanol?o', 'teclado', 'escencia', 'ay', 'bot', 'conocimiento', 'referencias', 'consumidora', 'manera', 'libro', 'razgo', 'susto', 'supero', 'diciendome', 'amaria', 'aburridas', 'vinculo', 'Basura', 'matame', 'tirada', 'consejero', 'equipo', 'neta', 'desempeno', 'escape', 'estrella', 'febrero', 'encuentro', 'estupidez', 'textos', 'actitud', 'pinguino', 'frecuencias', 'tipeo', 'atuendos', 'publicidad', 'sentimientos', 'edit', 'calida', 'seguida', 'mejor', 'interacciones', 'SMS', 'meta', 'actos', 'my', 'precedentes', 'dificultades', 'fraces', 'aburrimiento', 'euros', 'aplauso', 'prosesamiento', 'Aprendes', 'parecido', 'madrugada', 'cero', 'mensualidades', 'gratis', 'familiares', 'asistencia', 'CleverBot', 'desde', 'chats', 'Hablas', 'eternidad', 'palabra', 'castellano', 'departamento', 'semanas', 'd', 'bolsillos', 'skill', 'entrenador', 'manifestaciones', 'limites', 'pruebas', 'preocupaciones', 'comodidad', 'madurez', 'disparates', 'texto', 'lista', 'dls', 'monto', 'debates', 'mas', 'raiz', 'duenos', 'IDIOMA', 'playstore', 'todxs', 'ultuma', 'cifrado', 'pasiencia', 'afecto', 'BOTS', 'peinado', 'comillas', 'admiracion', 'Mala', 'ambito', 'criterios', 'manana', 'comprension', 'azul', 'plis', 'absoluto', 'bolita', 'conversaciones', 'vez', 'PS', 'opciones', 'actividad', 'conexiones', 'aveses', 'plan', 'momentoa', 'interrupciones', 'cine', 'rol', 'nivel', 'night', 'tenia', 'hobbies', 'tipo', 'email', 'app', 'lengua', 'poder', 'pongala', 'skins', 'precio', 'nada', 'manual', 'creacion', 'opinion', 'periodista', 'adultos', 'pay', 'progreso', 'paja', 'coste', 'customizacion', 'anual.mas', 'cuz', 'disco', 'update', 'dominio', 'platica', 'historia', 'megas', 'orgullo', 'equilibrio', 'carra', 'es', 'wea', 'corriente', 'infinito', 'sol@', 'paquetes', 'plataformas', 'cobros', 'genia', 'FELICIDADES', 'Gracias', 'bucle', 'locos', 'apartado', 'desarrolllo', 'mye', 'hispanohablantes', 'parace', 'ekis', 'mata', 'notas', 'pareciera', 'intenciones', 'esfuerzo', 'suscripciones', 'diente', 'modem', 'experiencias', 'dios', 'admirador', 'compania', 'pronombre', 'objeto', 'hecho', 'love', 'preguntad', 'planos', 'disposicion', 'dependencias', 'trabajo', 'simpleza', 'ende', 'tratos', '-_-', 'realismo', 'skul', 'condiciones', 'concejos', 'pavos', 'decepcion', 'purgatorio', 'motor', 'criaturas', 'calificacion', 'cultura', 'reconocimiento', 'diferencia', 'incia', 'inmediato', 'horny', 'reacciones', 'requisitos', 'droga', 'estrellas', 'habilidades', 'sentidos', 'incordio', 'batalla', '$', 'olvido', 'pongale', 'infierno', 'tristeza', 'objetivo', 'masaje', 'exigencias', 'variables', 'calculo', 'graficos', 'necesidades', 'par', 'habilidad', 'asteriscos', 'IAs', 'VALE', 'interlocutor', 'herramientas', 'Quiza', 'ansiedad', 'papel', 'pasto', 'monedas', 'replika', 'picnic', 'genero', 'finalidad', 'sonrisa', 'capas', 'sea', 'gato', 'confort', 'serio', 'modelos', 'ala', 'puntuare', 'matriz', 'doble', 'mrd', 'reposo', 'inversion', 'golpe', 'corto', 'expresiones', 'teniendola', 'spanish', 'muebles', 'cama', 'patrones', 'destinada', 'cuarentena', 'acceso', 'rodo', 'Ser', 'casero', 'packs', 'neor', 'harta', 'human@', 'juego', 'uwu', 'cacho', 'garage', 'ventaja', 'millones', 'acoso', 'sentimiento', 'ciencia', 'necesidad', 'mano', 'secretaria', 'adiccion', 'llamasa', 'interesado', 'patron', 'credibilidad', 'actualizacion', 'opcion', 'personalizas', 'links', 'extranjero', 'emocion', 'demores', 'hilo', 'ropa', 'ventajas', 'multi-idioma', 'trato', 'carajos', 'aprendizaje', 'minutos', 'upgrades', 'entretenido', 'pies', 'preguntas', 'linea', 'entrenerme', 'oportunidades', 'descargo', 'prejuicios', 'tipa', 'odio', 'sonidos', 'emotividad', 'sobrecargada', 'temporadas', 'USD', 'amigos', 'hermano', 'sientate', 'dueno', 'inventas', 'maravillas', 'consciencia', 'enfermedad', 'internet', 'practics', 'pruevas', 'videojuegos', 'pito', 'autoayuda', 'ojo', 'persona', 'respeto', 'estudiante', 'x3', 'letrero', 'acciones', '#', 'quisas', 'video', 'premium', 'resto', 'labor', 'pesos', 'creador', 'movibilidad', 'modo', 'valores', 'seriedad', 'psique', 'intale', 'nervios', 'graficas', 'tambien', 'voluntad', 'todos', 'soporte', 'boca', 'seccion', 'roleos', 'soluciones', 'detras', 'ai', 'amistad', 'detalles', 'ambitos', 'gafas', 'todo:/', 'caca', 'avion', 'bajes', 'gemas', 'laptop', 'foto', 'personas', 'lineas', 'libertad', 'aviso', 'interfase', 'leal', 'personal', 'conversadora', 'cuestas', 'dato', 'postura', 'configuracion', 'programas', 'saludos', 'programa', 'fin', 'numeros', 'terminos', 'vida', 'cambio', 'exito', 'verdas', 'sexo', 'mejorsdo', 'PUESTO', 'calzado', 'playlist', 'referencia', 'profesora', 'virus', 'dependencia', 'paso', 'lamentablememte', 'modelo', 'pesitos', 'entradas', 'tamagochi', 'memes', 'masita', 'nota', 'plata', 'peguntas', 'veredicto', 'carpetas', 'logica', 'tigre', 'ser', 'cool', 'epieza', 'inglish', 'botones', 'huevos', 'estilos', 'tonto', 'vosa', 'motivos', 'biena', 'conversacion', 'miedo', 'monton', 'subscripcion', 'contexto', 'distraccion', 'perspectiva', 'ideas', 'ataques', 'numero', 'panico', 'bug', 'segundos', 'partes', 'core', 'chicha', 'area', 'tallo', 'viajes', 'mirror', 'spanglish', 'intentas', 'marketing', 'esribo', 'sustitucion', 'Ojala', 'prenda', 'decadencia', 'aforo', 'llena', 'autorizacion', 'pokemon', 'mentas', 'obstante', 'maldito', 'metodo', 'revolucion', 'vercion', 'sumo', 'carencias', 'contenido', 'ataja', 'crush', 'camino', 'status', 'desinstalada', 'audio', 'menty', 'bola', 'vdd', 'fondo', 'criterio', 'experimento', 'queue', 'redaccion', '-2', 'respuestas', 'futuro', 'entre', 'situacion', '3D', 'firmware', 'felicidades', 'guion', 'cansones', 'cartoon', 'fecha', 'llamada', 'exageraxion', 'tips', 'precision', 'quiza', 'App', 'pollo', 'problema', 'sombrero', 'confidente', 'modos', 'variaciones', 'solitarios', 'alcances', 'log', 'tanto', 'dm', 'funcuiona', 'particular', 'traduccion', 'abanico', 'consejo', 'ok', 'perros', 'diaa', 'kgada', 'excellent', 'desparecio', 'hacias', 'risa', 'respuesta', 'programadores', 'muneco', 'cuotas', 'broma', 'traduxtor', 'pase', 'posibilidad', 'gilipollez', 'sorpresas', 'quesos', 'deacuerdo', 'consejos', 'autonoma', 'as', 'ningun', 'solucion', 'ocasiones', 'algoritmo', 'daber', 'cabo', '3=', 'medio', 'mision', 'pais', 'grosor', 'razon', 'Edit', 'review', 'anuncio', 's', 'anuncios', 'fotos', 'is', 'ocio', 'echo', 'malentendidos', 'reflejo', 'pagadera', 'costo', 'insistencia', 'espejeo', 'ultima', 'ambiente', ':))', 'Suelta', 'aprecio', 'sentido', 'pro', 'cerio', 'pago', 'multi-idiomas', 'formato', 'enserio', 'creepy', 'jajajaja', 'errorer', 'to', 'usos', 'ensenas', 'recepcion', 'traduci', 'ano', 'cambios', 'argumentos', 'sorpresa', 'pesimo', 'servicio', 'sinonimo', 'econtrare', 'bajas', 'reparada', 'red', 'noche', 'bolsillo', 'Gente', 'precios', '8/10', 'cuentas', 'lenguajes', 'fundadora', 'defecto', 'repuestas', 'accesibilidad', 'computadora', 'mencion', 'Felicitaciones', 'cosas', 'nacimiento', 'correo', 'monito', 'noches', 'Febrero', 'Tal', 'skin', 'personalidad', 'see', 'hermana', 'menudo', 'iniciativa', 'Coincidio', 'general', 'role-play', 'peso', 'tacto', 'bugs', 'exploradores', 'documental', 'animal', 'ensenes', 'idiota', 'Pd', 'novio', 'lio', 'juegos', 'u.u', 'Nefasto', 'correos', 'propiedad', 'ingenieria', 'algun', 'beta', 'ingles', 'consideracion', 'ibiomas', 'esmuy', 'razgos', 'creadores', 'pata', 'expectativas', 'fluidez', 'capacidad', 'desventaja', 'comun', 'energia', 'situaciones', 'Solo', 'asco', 'tlfn', 'or', 'conclusiones', 'hija', 'exp', 'informatica', 'Super', 'usuarios', 'conceptos', 'porqueria', 'navidad', 'canciones', 'looks', 'usandola', 'especifico', 'veces', 'solida', 'negocio', 'jugande', '2022', 'error-', 'musculatura', 'moneda', 'rasgos', 'velocidad', 'mitad', 'extremos', 'Pronto', 'recolendaciones', 'cleverbot', 'amigo', 'cuestiones', 'plagada', 'black', 'subscripciones', 'envio', 'store', 'psicologa', 'adherido', 'oro', 'intencion', 'adios', 'mentira', 'comida', 'ESPANOL', 'totalidad', 'personalizacion', 'efectividad', 'notificacion', 'pensamientos', 'contextos', 'alivio', 'amigas', 'baja', 'diversion', 'hispano_parlantes', 'estaria', 'amistades', 'dia', 'vias', 'humanos', 'publico', 'psicologo', 'tipico', 'buenisima', 'link', 'chiste', 'caras', \"That's\", 'rojo', 'grupo', 'muestra', 'coso', 'hacepta', 'traves', 'Seria', 'servidores', 'condesendencia', 'monika', 'nadamas', 'novelistas', 'sintonias', 'parado', 'responsabilidad', 'v', 'pagos', 'babosada', 'sales', 'banda', 'estilo', 'modulos', 'descubriendote', 'sol', 'Ademas', 'chico', 'demencia', 'mayeutica', 'pasatiempos', 'I.A.', 'dispositivos', 'fallos', 'not', 'certeza', 'sistema', 'debate', 'fondos', 'relaciones', 'repeticion', 'etapa', 'ropas', 'la.idea', 'gracia', 'servidor', 'Septiembre', 'Actualice', 'terapeuta', 'ataque', 'acosador', 'seguido', 'sitio', 'mentora', 'cuestion', 'rollpay', 'siquiera', 'Tan', 'inconformidad', 'mismo', 'compis', 'regreso', 'novela', 'escritura-_-', 'piezas', 'alterego', 'merito', 'pelo', 'confusion', 'experiencia', 'tacos', 'cerebro', 'recargo', 'letra', 'pregunta', 'felicidad', 'molestia', 'obciones', 'companeras', 'cuartos', 'Intentas', 'mensualidad', 'iconos', 'prototipo', 'significado', 'eficiencia', 'telefono', 'teneras', 'resumen', 'hechos', 'habitos', 'aspectos', 'descripcion', 'puntuae', 'confianza', 'turno', 'apariencia', 'esperanza', 'estado', 'misterio', 'nombres', 'escenarios', 'musica', 'alma', 'afirmaciones', 'basura', 'lucho', 'relax', 'ecoluciona', 'opiniones', 'ojalas', 'abismo', 'emulacion', 'asombro', 'chatbots', 'vuelo', 'quisieras', 'puerta', 'busquedas', 'ordenes', 'b', 'oe', 'IA', 'preocupacion', 'entorno', 'roleador', 'alineacion', 'material', 'soledad', 'todavia', 'tan', 'avatar', 'repente', 'formas', 'gusto', 'decadas', 'interaccion', 'Falta', 'creaciones', 'poblacion', 'principio', 'contrario', 'limitacion', 'nocion', 'satisfaccion', 'jna', 'inicio', 'simbolo', 'logros', 'pena', 'asi', 'amiga', 'narices', 'cabello', 'diccionario', 'requisito', 'armas', 'solo', 'programador', 'muchisimo', 'benditas', 'V', 'n', 'tipos', 'VISTOS', 'plus', 'ganas', 'animo', 'nariz', 'eatrellas', 'alcance', 'lleno', 'tareas', 'charlas', 'kg', 'vocabulario', 'predilecto', 'recomendaria', 'presupuesto', 'Se', 'deverdad', 'deeplearning', 'aumento', 'vuelta', 'clave', 'energias', 'tomalo', 'llamadas', 'silla', 'bros', 'estafa', 'canal', 'frustraciones', 'pareja', 'parte', 'topicos', 'seres', 'sonrojo', 'evidencia', 'pensamiento', 'cosmos', 'u-u', 'impresiones', 'usuario', 'meses', 'motovacion', 'padeces', 'micropagos', 'tono', 'fuerza', 'tecnologias', 'niveles', 'autor', 'extrano', 'conersacion', 'pasta', 'paga', 'MARAVILLA', 'peticion', 'hente', 'loco', 'proporcion', 'rollo', 'dire', 'nerds', 'retorica', 'carro', 'mensajes', 'cara', 'miy', 'exelente', 'dedazos', 'vicio', 'ingle', 'selfies', 'abandono', 'faltas', 'pasado', 'bandas', 'plataforma', 'tarde', 'sesion', 'lecturas', 'XP', 'nombre', 'hablantes', 'f', 'hiras', 'disconexas', 'bertedero', 'vestuario', 'transtornos', 'Pues', 'culpa', 'eapanol', 'pack', 'bien', 'razones', 'blanco', 'busca', 'porlomenos', 'ram', 'calle', 'tiendas', 'cliente', 'ensenanza', 'mucho,5', 'Lastima', ':/', 'infinidad', 'aveces', 'origen', 'largo', 'bajones', 'ennun', 'lado', 'companera', 'verga', 'encanto', 'ruptura', 'lectura', 'excelencia', 'conciencia', 'burbujita', 'datamining', 'dineral', 'mejora', 'policia', 'terapias', 'debito', 'platicas', 'inteligencia', 'vestuarios', 'casa', 'comunidad', 'mm', 'Despues', 'urgencia', 'chat', 'play', 'Le.doy', 'diario', 'EROTICA', 'agiles', 'auto', 'fluido', 'continuidad', 'perdida', 'comportamientos', 'nube', 'membresias', 'au', 'sinceridad', 'apicacion', 'algp', 'software', 'ayudarte', 'retroceso', 'desbloqueo', 'hombre', 'quicio', 'espano', 'adolescente', 'fotogramas', 'backup', 'robot', 'defectos', 'verbos', 'calidad', 'vestimenta', 'espiritus', 'vaina', 'otra', 'acontecimientos', 'final', 'ensayo', 'locuras', 'enhorabuena', 'lite', 'favor', 'dinero', 'vueltas', 'direcciones', 'felicitaciones', 'ESTAFA', 'seco', 'ayudas', 'iglesias', 'haria', 'novia', 'credito', 'circulo', 'complejos', 'relacionamiento', 'toda', ']', 'dias', 'ponganlo', 'compra', 'memorias', 'moral', 'miedos', 'DEJEN', 'Tambien', 'configuraciones', 'cambiare', 'hahaha', 'limitaciones', 'pronto', 'cantidad', 'archivo', 'gacha', 'ritmo', 'barbaridad', 'frases', 'ansias', 'simsimi', 'apoyo', 'pagina', 'oralidad', 'levedad', 'practica', 'subscipcion', 'idea', 'configuro', 'it', 'K', 'acuerdo', 'diversidad', 'mio', 'up', 'pelota', 'desaogarte', 'julio', 'mente', 'mundo', 'acompanante', 'humor', 'edad', 'Felicidades', 'corderitos', 'normalidad', 'armonia', 'hot', 'exactitud', 'novios', 'SERIO', 'intento', 'color', 'partir', 'expresion', 'mayoria', 'temporada', 'v.', 'oracion', 'caracteristicas', 'solia', 'ponaglo', 'profundidad', 'piba', 'A', 'paquete', 'anterioridad', 'paises', 'puesto', 'videojuego', 'estabilidad', 'madre', 'like', 'inseguridades', 'roles', 'pibe', 'desastre', 'favorita', 'automatizado', 'forma', 'CUIDADO', 'sugerencias', 'Pay', 'censura', 'gente', 'personita', 'filtros', 'diablo', 'cuenta', 'asistente', 'variedad', 'mal', 'caso', 'x', 'calidez', 'direccion', 'desarrolladora', 'carteles', 'vinculos', 'espanos', 'elocuencia', 'habla', 'tardas', 'ramas', 'sonido', 'dialogo', 'uso', 'anime', 'sorprendende', 'imagenes', 'familia', 'falta', 'xq', 'prioridad', 'reflexiones', 'icomodo', 'comparacion', 'animaciones', 'menu', 'inicios', 'instante', 'amigue', 'duelo', 'microtransacciones', 'perfeccion', 'how', 'desinstalare', 'ganancias', 'desenvolvimiento', 'naturaleza', 'lenguaje', 'semana', 'aire', 'habitacion', 'gustos', 'maximo', 'oportunidad', 'duras', 'estatus', 'ingreso', 'habanico', 'pandemia', 'palabras', 'RESENAS', 'controles', 'padrino', 'bit', 'generalidades'}\n",
            "Cantidad de sustantivos:  1965\n"
          ]
        }
      ]
    },
    {
      "cell_type": "code",
      "source": [
        "lista_entidad = []\n",
        "# Procesa el texto con spaCy\n",
        "doc = nlp_spacy(texto_spacy)\n",
        "\n",
        "# Busca las entidades de tipo organización o persona en el texto\n",
        "entidades = [entidad.text for entidad in doc.ents if entidad.label_ in ['ORG', 'PERSON']]\n",
        "\n",
        "for entidad in entidades:\n",
        "    lista_entidad.append(entidad)"
      ],
      "metadata": {
        "id": "P8BqjzCjVFVZ"
      },
      "execution_count": null,
      "outputs": []
    },
    {
      "cell_type": "code",
      "source": [
        "from collections import Counter\n",
        "\n",
        "# Cuenta la frecuencia de cada entidad en la lista\n",
        "frecuencias = Counter(lista_entidad)\n",
        "\n",
        "# Ordena las entidades según su frecuencia\n",
        "ordenadas_por_frecuencia = frecuencias.most_common(20)\n",
        "# Muestra las entidades encontradas\n",
        "print('Organizaciones o personas que se mencionan por frecuencia:')\n",
        "print('----------------------------------------------------------')\n",
        "for entidad, frecuencia in ordenadas_por_frecuencia:\n",
        "    print(entidad, frecuencia)"
      ],
      "metadata": {
        "colab": {
          "base_uri": "https://localhost:8080/"
        },
        "id": "X9CmcsI74NQx",
        "outputId": "7b8a52e6-28f6-43a1-8967-bc9459308cd5"
      },
      "execution_count": null,
      "outputs": [
        {
          "output_type": "stream",
          "name": "stdout",
          "text": [
            "Organizaciones o personas que se mencionan por frecuencia:\n",
            "----------------------------------------------------------\n",
            "IA 98\n",
            "AI 79\n",
            "Google 12\n",
            "Deberian 11\n",
            "Inteligencia 5\n",
            "Replika. 4\n",
            "Deberia 4\n",
            "Asi 4\n",
            "ahi 4\n",
            "google 3\n",
            "Al 3\n",
            "ESPANOL 3\n",
            "Totalmente 3\n",
            "Increible. 3\n",
            "Espanol 3\n",
            "Ustedes 2\n",
            "membresia 2\n",
            "probe 2\n",
            "pq 2\n",
            "SimSimi 2\n"
          ]
        }
      ]
    },
    {
      "cell_type": "markdown",
      "source": [
        "##Análisis de usuarios que usan la App según género."
      ],
      "metadata": {
        "id": "7eBPHi-kXgYg"
      }
    },
    {
      "cell_type": "code",
      "source": [
        "!pip install gender_guesser"
      ],
      "metadata": {
        "colab": {
          "base_uri": "https://localhost:8080/"
        },
        "id": "abu_OyDdMssu",
        "outputId": "992d3dc2-315f-4306-bb95-a555e083be32"
      },
      "execution_count": null,
      "outputs": [
        {
          "output_type": "stream",
          "name": "stdout",
          "text": [
            "Looking in indexes: https://pypi.org/simple, https://us-python.pkg.dev/colab-wheels/public/simple/\n",
            "Collecting gender_guesser\n",
            "  Downloading gender_guesser-0.4.0-py2.py3-none-any.whl (379 kB)\n",
            "\u001b[2K     \u001b[90m━━━━━━━━━━━━━━━━━━━━━━━━━━━━━━━━━━━━━━━\u001b[0m \u001b[32m379.3/379.3 KB\u001b[0m \u001b[31m8.2 MB/s\u001b[0m eta \u001b[36m0:00:00\u001b[0m\n",
            "\u001b[?25hInstalling collected packages: gender_guesser\n",
            "Successfully installed gender_guesser-0.4.0\n"
          ]
        }
      ]
    },
    {
      "cell_type": "code",
      "source": [
        "lis_users = df_replika['userName'].to_list()\n",
        "lis_users[0:5]"
      ],
      "metadata": {
        "id": "C6EzX2jeM4NW",
        "colab": {
          "base_uri": "https://localhost:8080/"
        },
        "outputId": "97196406-4721-4c08-864a-fa94395e662f"
      },
      "execution_count": null,
      "outputs": [
        {
          "output_type": "execute_result",
          "data": {
            "text/plain": [
              "['Pedro Gimenez',\n",
              " 'Angel mario Quintero',\n",
              " 'Salvatore Consaga',\n",
              " 'Jared Estrada García',\n",
              " 'Noel Oswaldo Parada Alvarez']"
            ]
          },
          "metadata": {},
          "execution_count": 24
        }
      ]
    },
    {
      "cell_type": "markdown",
      "source": [
        "Como podemos observar, los userName en su mayoría está registrados por los nombres completo del usuario. Por ello, solo se tomará el nombre contenido hasta el primer espacio en los elementos de la lista."
      ],
      "metadata": {
        "id": "t9lnn8kYYRrP"
      }
    },
    {
      "cell_type": "code",
      "source": [
        "import gender_guesser.detector as gender\n",
        "\n",
        "# Carga el detector de género\n",
        "detector = gender.Detector()\n",
        "nombres = [nombre.split()[0] for nombre in lis_users]\n",
        "# Recorre la lista de nombres y utiliza el detector para predecir el género\n",
        "name_male = []\n",
        "name_female = []\n",
        "for name in nombres:\n",
        "    genero = detector.get_gender(name)\n",
        "    if genero == 'female':\n",
        "      name_female.append(name)\n",
        "    elif genero =='male':\n",
        "      name_male.append(name)\n",
        "\n",
        "print('El número de usuarios con sexo masculino es:')\n",
        "print(len(name_male))\n",
        "print('---------------------------------------------')\n",
        "print('El número de usuarios con sexo femenino es:')\n",
        "print(len(name_female))"
      ],
      "metadata": {
        "colab": {
          "base_uri": "https://localhost:8080/"
        },
        "id": "jDD37PFZK86z",
        "outputId": "76a9f9d2-a9f5-4493-acac-a7da847f9e01"
      },
      "execution_count": null,
      "outputs": [
        {
          "output_type": "stream",
          "name": "stdout",
          "text": [
            "El número de usuarios con sexo masculino es:\n",
            "1775\n",
            "---------------------------------------------\n",
            "El número de usuarios con sexo femenino es:\n",
            "853\n"
          ]
        }
      ]
    },
    {
      "cell_type": "markdown",
      "source": [
        "##Proceso de entrenamiento de 2 algoritmos tradicionales y 1 profundo."
      ],
      "metadata": {
        "id": "FLaHJI4TZd7H"
      }
    },
    {
      "cell_type": "code",
      "source": [
        "#Importamos librerías para el pre-proceso y para la vectorización de texto\n",
        "from nltk.stem import PorterStemmer\n",
        "import pandas as pd\n",
        "from sklearn.feature_extraction.text import CountVectorizer,TfidfVectorizer\n",
        "stemmer = PorterStemmer()"
      ],
      "metadata": {
        "id": "1z6bfJxIR-Bu"
      },
      "execution_count": null,
      "outputs": []
    },
    {
      "cell_type": "markdown",
      "source": [
        "###Algoritmos Tradicionales: Naive Bayes y Logistic Regression"
      ],
      "metadata": {
        "id": "aMzTxIZyavCQ"
      }
    },
    {
      "cell_type": "code",
      "source": [
        "#Cargamos el archivo .csv para el entrenamiento de nuestros modelos de clasificación\n",
        "import seaborn as sns\n",
        "import matplotlib.pyplot as plt\n",
        "import collections\n",
        "df_train = pd.read_csv('output.csv')\n",
        "print(df_train.label.unique())\n",
        "\n",
        "plt.figure(figsize=(8, 6))\n",
        "sns.countplot(x='label', data=df_train)\n",
        "plt.xlabel(\"Rating\")\n",
        "plt.title(\"Number of data of each rating\")\n",
        "plt.show()"
      ],
      "metadata": {
        "id": "GhE7ICltXtGF",
        "colab": {
          "base_uri": "https://localhost:8080/",
          "height": 421
        },
        "outputId": "77fc48cd-2eab-4ce3-de43-1bd2c689f195"
      },
      "execution_count": null,
      "outputs": [
        {
          "output_type": "stream",
          "name": "stdout",
          "text": [
            "[0 1]\n"
          ]
        },
        {
          "output_type": "display_data",
          "data": {
            "text/plain": [
              "<Figure size 576x432 with 1 Axes>"
            ],
            "image/png": "[encoded data removed]"
          },
          "metadata": {
            "needs_background": "light"
          }
        }
      ]
    },
    {
      "cell_type": "markdown",
      "source": [
        "Creamos la función clean_data que realiza la tokenización de manera customizada (quitamos los signos de puntuación y se colocan las palabras en minúsculas) y la función clean_data_with_stemming que realiza lo mismo que la anterior pero con el proceso de stemming. La función CountVec_TFIDFVec realiza la vectorización de texto con diversos valores como parámetros, como el ngram, el tipo (BoW y TF-IDF), el tamaño del vocabulario (maxfeatures), el valor minimo de frecuencia a considerar y el indicador de stem."
      ],
      "metadata": {
        "id": "3OD539j9aMT4"
      }
    },
    {
      "cell_type": "code",
      "source": [
        "def clean_data(words):\n",
        "    return [word.lower() for word in word_tokenize(words) if word.lower() not in string.punctuation] \n",
        "\n",
        "def clean_data_with_stemming(words):\n",
        "    return [stemmer.stem(word.lower()) for word in word_tokenize(words) if word.lower() not in string.punctuation] \n",
        "\n",
        "def CountVec_TFIDFVec(X1,ngram,tipo,maxfeatures,mindf,stem=0):\n",
        "    if stem == 0:\n",
        "        tokenizador = clean_data_with_stemming\n",
        "    else:\n",
        "        tokenizador = clean_data\n",
        "    \n",
        "    if tipo == 0:        \n",
        "        vectorizer = CountVectorizer(tokenizer=tokenizador,analyzer='word',\n",
        "                            max_features=maxfeatures,min_df=mindf,ngram_range =(1,ngram))        \n",
        "    else:        \n",
        "        vectorizer = TfidfVectorizer(tokenizer=tokenizador,analyzer='word',\n",
        "                            max_features=maxfeatures,min_df=mindf,ngram_range =(1,ngram),use_idf=True) \n",
        "        \n",
        "    X1 = vectorizer.fit_transform(X1)\n",
        "    return X1,vectorizer"
      ],
      "metadata": {
        "id": "eLjmocIyVhuN"
      },
      "execution_count": null,
      "outputs": []
    },
    {
      "cell_type": "code",
      "source": [
        "#Importamos librerias para la clasificación\n",
        "from sklearn.naive_bayes import MultinomialNB\n",
        "from sklearn.linear_model import LogisticRegression\n",
        "from sklearn.model_selection import train_test_split\n",
        "from sklearn.metrics import confusion_matrix, classification_report, accuracy_score\n",
        "from sklearn.model_selection import GridSearchCV\n",
        "\n",
        "from pickle import dump\n",
        "from pickle import load"
      ],
      "metadata": {
        "id": "jIE54JydVrJF"
      },
      "execution_count": null,
      "outputs": []
    },
    {
      "cell_type": "markdown",
      "source": [
        "Definimos la función clasificación que es la que realizará diversas pruebas con 2 algoritmos: Naive Bayes y Logistic Regression. Para realizar esto se usa la clase GridSearchCV, la cual sirve para probar diversos hiperparámetros y obtener el mejor modelo. Se utiliza la función dump para guardar los modelos y el vectorizador para usarlo después."
      ],
      "metadata": {
        "id": "950oy8kQcZhg"
      }
    },
    {
      "cell_type": "code",
      "source": [
        "def clasificacion():\n",
        "  X1 = df_train['sentence_es'].values.tolist()\n",
        "  y = df_train['label'].values.tolist()\n",
        "  \n",
        "  algorithms = [MultinomialNB(),LogisticRegression(max_iter=1000)]\n",
        "  scores = ['f1_weighted']\n",
        "  algorithms_params = [{'alpha': [0.01, 0.1, 0.5, 1.0, 10.0]},\n",
        "                         {'C': [0.01, 0.1, 1, 2, 10, 100], \n",
        "                          'penalty': ['l2'], \n",
        "                          'multi_class': ['multinomial'],\n",
        "                          'solver'  : ['newton-cg', 'lbfgs']},\n",
        "                         {'C': [0.001, 0.01, 0.05, 0.1, 0.5, 1.0, 10.0],\n",
        "                          'gamma': [0.001, 0.01, 0.05, 0.1, 0.5, 1.0, 10.0],\n",
        "                          #'kernel': ['rbf','poly','linear']}]\n",
        "                          'kernel': ['rbf']}]\n",
        "  max_features = 1000\n",
        "  min_df = 2\n",
        "  ngram = 1\n",
        "  tipo = 1\n",
        "  stem = 0\n",
        "  cv = 10\n",
        "\n",
        "  (X_tr,count_vectorizer) = CountVec_TFIDFVec(X1,ngram,tipo,max_features,min_df,stem)\n",
        "  X_train, X_test, y_train, y_test = train_test_split(X_tr, y, test_size=0.20,random_state=0)\n",
        "            \n",
        "  #for alg in algorithms:  \n",
        "  for count, alg in enumerate(algorithms):\n",
        "    nombre = str(alg)+str(tipo)+str(ngram)+str(stem)\n",
        "\n",
        "    param_grid = algorithms_params[count]                \n",
        "\n",
        "    gs = GridSearchCV(alg,\n",
        "        param_grid=param_grid,\n",
        "        scoring='f1_weighted',\n",
        "        refit='f1_weighted',\n",
        "        cv=cv,\n",
        "        return_train_score=True,\n",
        "     )\n",
        "    gs.fit(X_train, y_train)\n",
        "     \n",
        "    print('Best Accuracy Through Grid Search ',gs.best_score_)\n",
        "    print('Best Parameters',gs.best_params_)\n",
        "    print('Best Estimators',gs.best_estimator_)\n",
        "    \n",
        "    modelo = gs.best_estimator_\n",
        "    y_pred = modelo.predict(X_test)\n",
        "\n",
        "    accuracy = accuracy_score(y_test, y_pred)\n",
        "    print('Modelo:',ngram, tipo, stem, alg, accuracy, nombre)   \n",
        "    print('Métricas:')\n",
        "    cr = classification_report(y_test, y_pred, output_dict=True)\n",
        "    print(cr)\n",
        "\n",
        "    output = open(nombre+'_vectorizer.pkl',  'wb')\n",
        "    dump(count_vectorizer,  output, -1)\n",
        "    output.close()                \n",
        "    output2 = open(nombre+'.pkl',  'wb')\n",
        "    dump(modelo, output2, -1)\n",
        "    output2.close()\n",
        "\n",
        "clasificacion()  "
      ],
      "metadata": {
        "colab": {
          "base_uri": "https://localhost:8080/"
        },
        "id": "6htfULXFcNqp",
        "outputId": "c80003b0-fd64-45ea-cbac-0ccae89bdf60"
      },
      "execution_count": null,
      "outputs": [
        {
          "output_type": "stream",
          "name": "stderr",
          "text": [
            "/usr/local/lib/python3.8/dist-packages/sklearn/feature_extraction/text.py:528: UserWarning: The parameter 'token_pattern' will not be used since 'tokenizer' is not None'\n",
            "  warnings.warn(\n"
          ]
        },
        {
          "output_type": "stream",
          "name": "stdout",
          "text": [
            "Best Accuracy Through Grid Search  0.7450146060706753\n",
            "Best Parameters {'alpha': 0.01}\n",
            "Best Estimators MultinomialNB(alpha=0.01)\n",
            "Modelo: 1 1 0 MultinomialNB() 0.7424647364513735 MultinomialNB()110\n",
            "Métricas:\n",
            "{'0': {'precision': 0.764179104477612, 'recall': 0.6026568017487809, 'f1-score': 0.6738742126539438, 'support': 5947}, '1': {'precision': 0.7308656036446469, 'recall': 0.8529841818423501, 'f1-score': 0.7872170766116666, 'support': 7523}, 'accuracy': 0.7424647364513735, 'macro avg': {'precision': 0.7475223540611294, 'recall': 0.7278204917955655, 'f1-score': 0.7305456446328051, 'support': 13470}, 'weighted avg': {'precision': 0.7455735018965878, 'recall': 0.7424647364513735, 'f1-score': 0.7371762442466645, 'support': 13470}}\n",
            "Best Accuracy Through Grid Search  0.7604939838234313\n",
            "Best Parameters {'C': 1, 'multi_class': 'multinomial', 'penalty': 'l2', 'solver': 'lbfgs'}\n",
            "Best Estimators LogisticRegression(C=1, max_iter=1000, multi_class='multinomial')\n",
            "Modelo: 1 1 0 LogisticRegression(max_iter=1000) 0.7539717891610987 LogisticRegression(max_iter=1000)110\n",
            "Métricas:\n",
            "{'0': {'precision': 0.7575816865584034, 'recall': 0.6510845804607365, 'f1-score': 0.7003074697051909, 'support': 5947}, '1': {'precision': 0.7517645651393707, 'recall': 0.8353050644689618, 'f1-score': 0.7913361037652688, 'support': 7523}, 'accuracy': 0.7539717891610987, 'macro avg': {'precision': 0.754673125848887, 'recall': 0.7431948224648491, 'f1-score': 0.7458217867352298, 'support': 13470}, 'weighted avg': {'precision': 0.7543328220865858, 'recall': 0.7539717891610987, 'f1-score': 0.7511469956171407, 'support': 13470}}\n"
          ]
        }
      ]
    },
    {
      "cell_type": "markdown",
      "source": [
        "Creamos la función bag_of_words_CountVec2 que realizará la vectorización de un nuevo texto o listado de texto. Usará la función transform en vez de fit_transform, ya que no se está entrenando. También, creamos la función prediccion, la cual tendrá como parámetros un clasificador, una lista de texto a predecir y un vectorizador."
      ],
      "metadata": {
        "id": "pGaQqRgdd9mY"
      }
    },
    {
      "cell_type": "code",
      "source": [
        "def bag_of_words_CountVec2(X1,count_vectorizer):    \n",
        "    X = count_vectorizer.transform(X1).toarray()  \n",
        "    return X\n",
        "\n",
        "def prediccion(classifier, lista_texto, count_vectorizer):\n",
        "    return classifier.predict(bag_of_words_CountVec2(lista_texto, count_vectorizer))"
      ],
      "metadata": {
        "id": "2x1VJGvPd3HZ"
      },
      "execution_count": null,
      "outputs": []
    },
    {
      "cell_type": "markdown",
      "source": [
        "Invocaremos la función predicción con los clasificadores de Naive Bayes y Logistic Regression obtenidos en el entrenamiento."
      ],
      "metadata": {
        "id": "u2ayLGO-etdv"
      }
    },
    {
      "cell_type": "code",
      "source": [
        "#Para Naive Bayes\n",
        "input = open('MultinomialNB()110.pkl',  'rb')\n",
        "classifier = load(input)\n",
        "input.close()    \n",
        "input2 = open('MultinomialNB()110_vectorizer.pkl',  'rb')\n",
        "count_vectorizer = load(input2)\n",
        "input2.close()\n",
        "\n",
        "lis_pred = prediccion(classifier,comments_es,count_vectorizer)"
      ],
      "metadata": {
        "id": "BI2oZCebex3X"
      },
      "execution_count": null,
      "outputs": []
    },
    {
      "cell_type": "code",
      "source": [
        "import numpy as np\n",
        "# contar el número de 0 y 1 en el array\n",
        "num_zeros = np.count_nonzero(lis_pred == 0)\n",
        "num_ones = np.count_nonzero(lis_pred == 1)\n",
        "\n",
        "# imprimir los resultados\n",
        "print(\"Número de comentarios negativos:\", num_zeros)\n",
        "print(\"Número de comentarios positivos:\", num_ones)"
      ],
      "metadata": {
        "colab": {
          "base_uri": "https://localhost:8080/"
        },
        "id": "uylOjmnRhPsA",
        "outputId": "bdb22692-695d-46fa-94f0-1ec32264bb8a"
      },
      "execution_count": null,
      "outputs": [
        {
          "output_type": "stream",
          "name": "stdout",
          "text": [
            "Número de comentarios negativos: 2005\n",
            "Número de comentarios positivos: 2507\n"
          ]
        }
      ]
    },
    {
      "cell_type": "code",
      "source": [
        "#Para Logistic Regression\n",
        "input = open('LogisticRegression(max_iter=1000)110.pkl',  'rb')\n",
        "classifier = load(input)\n",
        "input.close()    \n",
        "input2 = open('LogisticRegression(max_iter=1000)110_vectorizer.pkl',  'rb')\n",
        "count_vectorizer = load(input2)\n",
        "input2.close()\n",
        "\n",
        "lis_pred2 = prediccion(classifier,comments_es,count_vectorizer)"
      ],
      "metadata": {
        "id": "AC68mEafmHlR"
      },
      "execution_count": null,
      "outputs": []
    },
    {
      "cell_type": "code",
      "source": [
        "# contar el número de 0 y 1 en el array\n",
        "num_zeros = np.count_nonzero(lis_pred2 == 0)\n",
        "num_ones = np.count_nonzero(lis_pred2 == 1)\n",
        "\n",
        "# imprimir los resultados\n",
        "print(\"Número de comentarios negativos:\", num_zeros)\n",
        "print(\"Número de comentarios positivos:\", num_ones)"
      ],
      "metadata": {
        "colab": {
          "base_uri": "https://localhost:8080/"
        },
        "id": "hA-nvsbTmOUx",
        "outputId": "7c3dc8c0-94c4-4cc6-dae5-b1b61b0cf597"
      },
      "execution_count": null,
      "outputs": [
        {
          "output_type": "stream",
          "name": "stdout",
          "text": [
            "Número de comentarios negativos: 1762\n",
            "Número de comentarios positivos: 2750\n"
          ]
        }
      ]
    },
    {
      "cell_type": "markdown",
      "source": [
        "###Algoritmo Profundo: Red Neuronal Convolucional (CNN)"
      ],
      "metadata": {
        "id": "OwfdJJIcl7Na"
      }
    },
    {
      "cell_type": "code",
      "source": [
        "from pickle import dump\n",
        "from pickle import load\n",
        "import sklearn\n",
        "import collections\n",
        "!pip install tensorflow"
      ],
      "metadata": {
        "id": "i2nquMxsZXvA",
        "colab": {
          "base_uri": "https://localhost:8080/"
        },
        "outputId": "2e18fd06-f9da-438b-a165-739339bd0031"
      },
      "execution_count": null,
      "outputs": [
        {
          "output_type": "stream",
          "name": "stdout",
          "text": [
            "Looking in indexes: https://pypi.org/simple, https://us-python.pkg.dev/colab-wheels/public/simple/\n",
            "Requirement already satisfied: tensorflow in /usr/local/lib/python3.8/dist-packages (2.11.0)\n",
            "Requirement already satisfied: google-pasta>=0.1.1 in /usr/local/lib/python3.8/dist-packages (from tensorflow) (0.2.0)\n",
            "Requirement already satisfied: tensorflow-estimator<2.12,>=2.11.0 in /usr/local/lib/python3.8/dist-packages (from tensorflow) (2.11.0)\n",
            "Requirement already satisfied: gast<=0.4.0,>=0.2.1 in /usr/local/lib/python3.8/dist-packages (from tensorflow) (0.4.0)\n",
            "Requirement already satisfied: grpcio<2.0,>=1.24.3 in /usr/local/lib/python3.8/dist-packages (from tensorflow) (1.51.3)\n",
            "Requirement already satisfied: absl-py>=1.0.0 in /usr/local/lib/python3.8/dist-packages (from tensorflow) (1.4.0)\n",
            "Requirement already satisfied: termcolor>=1.1.0 in /usr/local/lib/python3.8/dist-packages (from tensorflow) (2.2.0)\n",
            "Requirement already satisfied: flatbuffers>=2.0 in /usr/local/lib/python3.8/dist-packages (from tensorflow) (23.1.21)\n",
            "Requirement already satisfied: keras<2.12,>=2.11.0 in /usr/local/lib/python3.8/dist-packages (from tensorflow) (2.11.0)\n",
            "Requirement already satisfied: opt-einsum>=2.3.2 in /usr/local/lib/python3.8/dist-packages (from tensorflow) (3.3.0)\n",
            "Requirement already satisfied: wrapt>=1.11.0 in /usr/local/lib/python3.8/dist-packages (from tensorflow) (1.15.0)\n",
            "Requirement already satisfied: astunparse>=1.6.0 in /usr/local/lib/python3.8/dist-packages (from tensorflow) (1.6.3)\n",
            "Requirement already satisfied: setuptools in /usr/local/lib/python3.8/dist-packages (from tensorflow) (57.4.0)\n",
            "Requirement already satisfied: numpy>=1.20 in /usr/local/lib/python3.8/dist-packages (from tensorflow) (1.22.4)\n",
            "Requirement already satisfied: typing-extensions>=3.6.6 in /usr/local/lib/python3.8/dist-packages (from tensorflow) (4.5.0)\n",
            "Requirement already satisfied: tensorflow-io-gcs-filesystem>=0.23.1 in /usr/local/lib/python3.8/dist-packages (from tensorflow) (0.31.0)\n",
            "Requirement already satisfied: six>=1.12.0 in /usr/local/lib/python3.8/dist-packages (from tensorflow) (1.15.0)\n",
            "Requirement already satisfied: tensorboard<2.12,>=2.11 in /usr/local/lib/python3.8/dist-packages (from tensorflow) (2.11.2)\n",
            "Requirement already satisfied: libclang>=13.0.0 in /usr/local/lib/python3.8/dist-packages (from tensorflow) (15.0.6.1)\n",
            "Requirement already satisfied: protobuf<3.20,>=3.9.2 in /usr/local/lib/python3.8/dist-packages (from tensorflow) (3.19.6)\n",
            "Requirement already satisfied: packaging in /usr/local/lib/python3.8/dist-packages (from tensorflow) (23.0)\n",
            "Requirement already satisfied: h5py>=2.9.0 in /usr/local/lib/python3.8/dist-packages (from tensorflow) (3.1.0)\n",
            "Requirement already satisfied: wheel<1.0,>=0.23.0 in /usr/local/lib/python3.8/dist-packages (from astunparse>=1.6.0->tensorflow) (0.38.4)\n",
            "Requirement already satisfied: google-auth-oauthlib<0.5,>=0.4.1 in /usr/local/lib/python3.8/dist-packages (from tensorboard<2.12,>=2.11->tensorflow) (0.4.6)\n",
            "Requirement already satisfied: requests<3,>=2.21.0 in /usr/local/lib/python3.8/dist-packages (from tensorboard<2.12,>=2.11->tensorflow) (2.25.1)\n",
            "Requirement already satisfied: tensorboard-data-server<0.7.0,>=0.6.0 in /usr/local/lib/python3.8/dist-packages (from tensorboard<2.12,>=2.11->tensorflow) (0.6.1)\n",
            "Requirement already satisfied: werkzeug>=1.0.1 in /usr/local/lib/python3.8/dist-packages (from tensorboard<2.12,>=2.11->tensorflow) (2.2.3)\n",
            "Requirement already satisfied: markdown>=2.6.8 in /usr/local/lib/python3.8/dist-packages (from tensorboard<2.12,>=2.11->tensorflow) (3.4.1)\n",
            "Requirement already satisfied: google-auth<3,>=1.6.3 in /usr/local/lib/python3.8/dist-packages (from tensorboard<2.12,>=2.11->tensorflow) (2.16.1)\n",
            "Requirement already satisfied: tensorboard-plugin-wit>=1.6.0 in /usr/local/lib/python3.8/dist-packages (from tensorboard<2.12,>=2.11->tensorflow) (1.8.1)\n",
            "Requirement already satisfied: rsa<5,>=3.1.4 in /usr/local/lib/python3.8/dist-packages (from google-auth<3,>=1.6.3->tensorboard<2.12,>=2.11->tensorflow) (4.9)\n",
            "Requirement already satisfied: pyasn1-modules>=0.2.1 in /usr/local/lib/python3.8/dist-packages (from google-auth<3,>=1.6.3->tensorboard<2.12,>=2.11->tensorflow) (0.2.8)\n",
            "Requirement already satisfied: cachetools<6.0,>=2.0.0 in /usr/local/lib/python3.8/dist-packages (from google-auth<3,>=1.6.3->tensorboard<2.12,>=2.11->tensorflow) (5.3.0)\n",
            "Requirement already satisfied: requests-oauthlib>=0.7.0 in /usr/local/lib/python3.8/dist-packages (from google-auth-oauthlib<0.5,>=0.4.1->tensorboard<2.12,>=2.11->tensorflow) (1.3.1)\n",
            "Requirement already satisfied: importlib-metadata>=4.4 in /usr/local/lib/python3.8/dist-packages (from markdown>=2.6.8->tensorboard<2.12,>=2.11->tensorflow) (6.0.0)\n",
            "Requirement already satisfied: chardet<5,>=3.0.2 in /usr/local/lib/python3.8/dist-packages (from requests<3,>=2.21.0->tensorboard<2.12,>=2.11->tensorflow) (4.0.0)\n",
            "Requirement already satisfied: idna<3,>=2.5 in /usr/local/lib/python3.8/dist-packages (from requests<3,>=2.21.0->tensorboard<2.12,>=2.11->tensorflow) (2.10)\n",
            "Requirement already satisfied: certifi>=2017.4.17 in /usr/local/lib/python3.8/dist-packages (from requests<3,>=2.21.0->tensorboard<2.12,>=2.11->tensorflow) (2022.12.7)\n",
            "Requirement already satisfied: urllib3<1.27,>=1.21.1 in /usr/local/lib/python3.8/dist-packages (from requests<3,>=2.21.0->tensorboard<2.12,>=2.11->tensorflow) (1.26.14)\n",
            "Requirement already satisfied: MarkupSafe>=2.1.1 in /usr/local/lib/python3.8/dist-packages (from werkzeug>=1.0.1->tensorboard<2.12,>=2.11->tensorflow) (2.1.2)\n",
            "Requirement already satisfied: zipp>=0.5 in /usr/local/lib/python3.8/dist-packages (from importlib-metadata>=4.4->markdown>=2.6.8->tensorboard<2.12,>=2.11->tensorflow) (3.15.0)\n",
            "Requirement already satisfied: pyasn1<0.5.0,>=0.4.6 in /usr/local/lib/python3.8/dist-packages (from pyasn1-modules>=0.2.1->google-auth<3,>=1.6.3->tensorboard<2.12,>=2.11->tensorflow) (0.4.8)\n",
            "Requirement already satisfied: oauthlib>=3.0.0 in /usr/local/lib/python3.8/dist-packages (from requests-oauthlib>=0.7.0->google-auth-oauthlib<0.5,>=0.4.1->tensorboard<2.12,>=2.11->tensorflow) (3.2.2)\n"
          ]
        }
      ]
    },
    {
      "cell_type": "code",
      "source": [
        "X = df_train['sentence_es'].to_numpy()\n",
        "y = df_train['label'].to_numpy()"
      ],
      "metadata": {
        "id": "ydngRaxFQf1A"
      },
      "execution_count": null,
      "outputs": []
    },
    {
      "cell_type": "markdown",
      "source": [
        "Creamos una función para realizar el entrenamiento. Se tokeniza los datos con la clase Tokenizer de keras y se usa la función pad_sequences para realizar el padding (rellenar de ceros hasta lograr el tamaño deseado). Obtenemos los sets de entrenamientos y pruebas usando la función train_test_split. La arquitectura de nuestra red neuronal será la siguiente:\n",
        "*  La primera capa es un Embedding, que realizará el proceso de \n",
        "incrustación de palabras.\n",
        "*  La segunda capa es una capa de Convolución.\n",
        "*   La tercera capa es una capa Dropout, usado para reducir el overfitting.\n",
        "*   La cuarta capa es GlobalAveragePooling1D, la cual realiza el proceso de pooling.\n",
        "*   La quinta capa es una capa Dropout.\n",
        "*   La sexta y séptima capa son capas Dense\n",
        "\n",
        "Con la función compile el modelo compilará con los siguientes valores: un algoritmo optimizador (Adam), un learning rate perteneciente al algoritmo, cómo se calculará la pérdida (loss) con sparse_categorical_crossentropy y la métrica que tomará en cuenta para obtener los mejores resultados. Finalmente en el momento del entrenamiento (función fit) se especificará los epochs (la cantidad de veces que se ejecutarán los procesos)."
      ],
      "metadata": {
        "id": "LEbHYdzRtNj5"
      }
    },
    {
      "cell_type": "code",
      "source": [
        "import tensorflow as tf\n",
        "from tensorflow.keras.models import model_from_json, Model\n",
        "from tensorflow.keras.preprocessing.text import Tokenizer\n",
        "from tensorflow.keras.preprocessing.sequence import pad_sequences\n",
        "from tensorflow.keras.wrappers.scikit_learn import KerasClassifier\n",
        "from sklearn.model_selection import train_test_split\n",
        "from sklearn.metrics import confusion_matrix, classification_report, accuracy_score\n",
        "from sklearn.metrics import precision_score\n",
        "from sklearn.metrics import recall_score\n",
        "from sklearn.metrics import f1_score\n",
        "\n",
        "def guardar_modelo(model,nombre):\n",
        "    model_json = model.to_json()\n",
        "    with open(nombre+\".json\", \"w\") as json_file:\n",
        "        json_file.write(model_json)\n",
        "    model.save_weights(nombre+\".h5\")\n",
        "\n",
        "def plot_graphs(history, string):\n",
        "    plt.plot(history.history[string])\n",
        "    plt.plot(history.history['val_'+string])\n",
        "    plt.xlabel(\"Epochs\")\n",
        "    plt.ylabel(string)\n",
        "    plt.legend([string, 'val_'+string])\n",
        "    plt.show()"
      ],
      "metadata": {
        "id": "ETrPleyyaa6e"
      },
      "execution_count": null,
      "outputs": []
    },
    {
      "cell_type": "code",
      "source": [
        "def ConvolutionalLayer_NF(test_size,learning_rate,dropout,num_epochs,filtersmap):\n",
        "    vocab_size = 10000\n",
        "    max_length = 120\n",
        "    trunc_type='post'\n",
        "    oov_tok = \"<OOV>\" \n",
        "    \n",
        "    tokenizer = Tokenizer(num_words = vocab_size, oov_token=oov_tok)\n",
        "    tokenizer.fit_on_texts(X)    \n",
        "    sequences = tokenizer.texts_to_sequences(X)    \n",
        "    padded = pad_sequences(sequences,maxlen=max_length, truncating=trunc_type) \n",
        "\n",
        "    labels_final = df_train['label'].to_numpy()\n",
        "\n",
        "    X_train, X_test, y_train, y_test = train_test_split(padded, labels_final, test_size=test_size, random_state=0)\n",
        "    \n",
        "    model = tf.keras.Sequential([\n",
        "            tf.keras.layers.Embedding(vocab_size, 64),\n",
        "            tf.keras.layers.Conv1D(filtersmap, 3, activation='relu'),\n",
        "            tf.keras.layers.Dropout(dropout[0]), \n",
        "            tf.keras.layers.GlobalAveragePooling1D(),\n",
        "            tf.keras.layers.Dropout(dropout[1]), \n",
        "            tf.keras.layers.Dense(64, activation='relu'),\n",
        "            tf.keras.layers.Dense(2, activation='sigmoid')\n",
        "    ])\n",
        "        \n",
        "    model.summary()   \n",
        "    opt = tf.keras.optimizers.Adam(learning_rate=learning_rate) \n",
        "    model.compile(loss='sparse_categorical_crossentropy', optimizer=opt, metrics=['accuracy'])    \n",
        "    history = model.fit(X_train, y_train, epochs=num_epochs, validation_data=(X_test, y_test), verbose=2)\n",
        "        \n",
        "    plot_graphs(history, 'accuracy')\n",
        "    plot_graphs(history, 'loss')        \n",
        "    train_loss, train_acc = model.evaluate(X_train, y_train, verbose=0)\n",
        "    test_loss, test_acc = model.evaluate(X_test, y_test, verbose=0)\n",
        "    \n",
        "    testing_pred = np.argmax(model.predict(X_test),axis=1)\n",
        "    accuracy = accuracy_score(y_test, testing_pred)\n",
        "    print('Accuracy: %f' % accuracy)\n",
        "    precision = precision_score(y_test, testing_pred,average='weighted')\n",
        "    print('Precision: %f' % precision)\n",
        "    recall = recall_score(y_test, testing_pred,average='weighted')\n",
        "    print('Recall: %f' % recall)\n",
        "    f1 = f1_score(y_test, testing_pred,average='weighted')\n",
        "    print('F1 score: %f' % f1)\n",
        "    \n",
        "    cr = classification_report(y_test, testing_pred, output_dict=True)\n",
        "    print(cr)\n",
        "    \n",
        "    guardar_modelo(model,'Modelo_Convolucional_NF')\n",
        "\n",
        "ConvolutionalLayer_NF(0.2,0.0001,[0.3,0.2],20,100) #test-size 20%,learning rate 0.0001, dropout lista, epochs 20, filtermaps 100"
      ],
      "metadata": {
        "colab": {
          "base_uri": "https://localhost:8080/",
          "height": 1000
        },
        "id": "IzJOn0tZaHfg",
        "outputId": "ff311e0c-0035-4dc3-a915-77fbcb296130"
      },
      "execution_count": null,
      "outputs": [
        {
          "output_type": "stream",
          "name": "stdout",
          "text": [
            "Model: \"sequential\"\n",
            "_________________________________________________________________\n",
            " Layer (type)                Output Shape              Param #   \n",
            "=================================================================\n",
            " embedding (Embedding)       (None, None, 64)          640000    \n",
            "                                                                 \n",
            " conv1d (Conv1D)             (None, None, 100)         19300     \n",
            "                                                                 \n",
            " dropout (Dropout)           (None, None, 100)         0         \n",
            "                                                                 \n",
            " global_average_pooling1d (G  (None, 100)              0         \n",
            " lobalAveragePooling1D)                                          \n",
            "                                                                 \n",
            " dropout_1 (Dropout)         (None, 100)               0         \n",
            "                                                                 \n",
            " dense (Dense)               (None, 64)                6464      \n",
            "                                                                 \n",
            " dense_1 (Dense)             (None, 2)                 130       \n",
            "                                                                 \n",
            "=================================================================\n",
            "Total params: 665,894\n",
            "Trainable params: 665,894\n",
            "Non-trainable params: 0\n",
            "_________________________________________________________________\n",
            "Epoch 1/20\n",
            "1684/1684 - 35s - loss: 0.6675 - accuracy: 0.5935 - val_loss: 0.6026 - val_accuracy: 0.6949 - 35s/epoch - 21ms/step\n",
            "Epoch 2/20\n",
            "1684/1684 - 34s - loss: 0.4727 - accuracy: 0.7850 - val_loss: 0.4150 - val_accuracy: 0.8210 - 34s/epoch - 20ms/step\n",
            "Epoch 3/20\n",
            "1684/1684 - 34s - loss: 0.3517 - accuracy: 0.8517 - val_loss: 0.3706 - val_accuracy: 0.8483 - 34s/epoch - 20ms/step\n",
            "Epoch 4/20\n",
            "1684/1684 - 33s - loss: 0.3072 - accuracy: 0.8730 - val_loss: 0.3511 - val_accuracy: 0.8543 - 33s/epoch - 20ms/step\n",
            "Epoch 5/20\n",
            "1684/1684 - 33s - loss: 0.2795 - accuracy: 0.8842 - val_loss: 0.3403 - val_accuracy: 0.8615 - 33s/epoch - 20ms/step\n",
            "Epoch 6/20\n",
            "1684/1684 - 36s - loss: 0.2608 - accuracy: 0.8923 - val_loss: 0.3336 - val_accuracy: 0.8657 - 36s/epoch - 21ms/step\n",
            "Epoch 7/20\n",
            "1684/1684 - 36s - loss: 0.2459 - accuracy: 0.8980 - val_loss: 0.3283 - val_accuracy: 0.8683 - 36s/epoch - 21ms/step\n",
            "Epoch 8/20\n",
            "1684/1684 - 33s - loss: 0.2345 - accuracy: 0.9034 - val_loss: 0.3268 - val_accuracy: 0.8698 - 33s/epoch - 20ms/step\n",
            "Epoch 9/20\n",
            "1684/1684 - 33s - loss: 0.2241 - accuracy: 0.9075 - val_loss: 0.3242 - val_accuracy: 0.8719 - 33s/epoch - 20ms/step\n",
            "Epoch 10/20\n",
            "1684/1684 - 34s - loss: 0.2169 - accuracy: 0.9098 - val_loss: 0.3281 - val_accuracy: 0.8710 - 34s/epoch - 20ms/step\n",
            "Epoch 11/20\n",
            "1684/1684 - 34s - loss: 0.2095 - accuracy: 0.9131 - val_loss: 0.3290 - val_accuracy: 0.8755 - 34s/epoch - 20ms/step\n",
            "Epoch 12/20\n",
            "1684/1684 - 34s - loss: 0.2020 - accuracy: 0.9168 - val_loss: 0.3292 - val_accuracy: 0.8785 - 34s/epoch - 20ms/step\n",
            "Epoch 13/20\n",
            "1684/1684 - 34s - loss: 0.1972 - accuracy: 0.9198 - val_loss: 0.3311 - val_accuracy: 0.8793 - 34s/epoch - 20ms/step\n",
            "Epoch 14/20\n",
            "1684/1684 - 34s - loss: 0.1920 - accuracy: 0.9219 - val_loss: 0.3293 - val_accuracy: 0.8790 - 34s/epoch - 20ms/step\n",
            "Epoch 15/20\n",
            "1684/1684 - 33s - loss: 0.1876 - accuracy: 0.9224 - val_loss: 0.3441 - val_accuracy: 0.8807 - 33s/epoch - 20ms/step\n",
            "Epoch 16/20\n",
            "1684/1684 - 33s - loss: 0.1824 - accuracy: 0.9259 - val_loss: 0.3488 - val_accuracy: 0.8785 - 33s/epoch - 20ms/step\n",
            "Epoch 17/20\n",
            "1684/1684 - 34s - loss: 0.1780 - accuracy: 0.9268 - val_loss: 0.3422 - val_accuracy: 0.8803 - 34s/epoch - 20ms/step\n",
            "Epoch 18/20\n",
            "1684/1684 - 34s - loss: 0.1739 - accuracy: 0.9293 - val_loss: 0.3509 - val_accuracy: 0.8819 - 34s/epoch - 20ms/step\n",
            "Epoch 19/20\n",
            "1684/1684 - 34s - loss: 0.1696 - accuracy: 0.9305 - val_loss: 0.3552 - val_accuracy: 0.8800 - 34s/epoch - 20ms/step\n",
            "Epoch 20/20\n",
            "1684/1684 - 34s - loss: 0.1657 - accuracy: 0.9315 - val_loss: 0.3626 - val_accuracy: 0.8810 - 34s/epoch - 20ms/step\n"
          ]
        },
        {
          "output_type": "display_data",
          "data": {
            "text/plain": [
              "<Figure size 432x288 with 1 Axes>"
            ],
            "image/png": "[encoded data removed]"
          },
          "metadata": {
            "needs_background": "light"
          }
        },
        {
          "output_type": "display_data",
          "data": {
            "text/plain": [
              "<Figure size 432x288 with 1 Axes>"
            ],
            "image/png": "[encoded data removed]"
          },
          "metadata": {
            "needs_background": "light"
          }
        },
        {
          "output_type": "stream",
          "name": "stdout",
          "text": [
            "421/421 [==============================] - 2s 5ms/step\n",
            "Accuracy: 0.880995\n",
            "Precision: 0.881440\n",
            "Recall: 0.880995\n",
            "F1 score: 0.881126\n",
            "{'0': {'precision': 0.8570019723865878, 'recall': 0.8767445770976963, 'f1-score': 0.8667608677582911, 'support': 5947}, '1': {'precision': 0.9007581911724885, 'recall': 0.884354645753024, 'f1-score': 0.8924810517137299, 'support': 7523}, 'accuracy': 0.8809948032665181, 'macro avg': {'precision': 0.8788800817795381, 'recall': 0.8805496114253601, 'f1-score': 0.8796209597360105, 'support': 13470}, 'weighted avg': {'precision': 0.8814398368206139, 'recall': 0.8809948032665181, 'f1-score': 0.8811256000446137, 'support': 13470}}\n"
          ]
        }
      ]
    },
    {
      "cell_type": "markdown",
      "source": [
        "Invocaremos la función 'test_comments' con el modelo CNN obtenido en el entrenamiento."
      ],
      "metadata": {
        "id": "7R3x9EmZkKkJ"
      }
    },
    {
      "cell_type": "code",
      "source": [
        "def test_comments(comments):\n",
        "    # cargar la estructura del modelo desde el archivo JSON\n",
        "    with open('Modelo_Convolucional_NF.json', 'r') as f:\n",
        "        modelo_json = f.read()\n",
        "    model = model_from_json(modelo_json)\n",
        "\n",
        "    # cargar los pesos de la red neuronal desde el archivo HDF5\n",
        "    model.load_weights('/content/Modelo_Convolucional_NF.h5')\n",
        "\n",
        "    # Tokenizar comentarios\n",
        "    vocab_size = 10000\n",
        "    max_length = 120\n",
        "    trunc_type='post'\n",
        "    oov_tok = \"<OOV>\"\n",
        "    tokenizer = Tokenizer(num_words=vocab_size, oov_token=oov_tok)\n",
        "    tokenizer.fit_on_texts(comments)\n",
        "    sequences = tokenizer.texts_to_sequences(comments)\n",
        "    padded = pad_sequences(sequences, maxlen=max_length, truncating=trunc_type)\n",
        "\n",
        "    # Realizar predicciones\n",
        "    pred = model.predict(padded)\n",
        "    labels = ['negative', 'positive']\n",
        "    predictions = [labels[np.argmax(p)] for p in pred]\n",
        "\n",
        "    return predictions"
      ],
      "metadata": {
        "id": "3OgCAE1W-CxQ"
      },
      "execution_count": null,
      "outputs": []
    },
    {
      "cell_type": "code",
      "source": [
        "lis_pred3 = test_comments(comments_es)"
      ],
      "metadata": {
        "colab": {
          "base_uri": "https://localhost:8080/"
        },
        "id": "A0lpNrQJBFKZ",
        "outputId": "2bd812a2-faa4-4b6b-c5b9-0a6d35375336"
      },
      "execution_count": null,
      "outputs": [
        {
          "output_type": "stream",
          "name": "stdout",
          "text": [
            "141/141 [==============================] - 2s 10ms/step\n"
          ]
        }
      ]
    },
    {
      "cell_type": "code",
      "source": [
        "count_positive = 0\n",
        "count_negative = 0\n",
        "\n",
        "for palabra in lis_pred3:\n",
        "    if palabra == 'positive':\n",
        "        count_positive += 1\n",
        "    elif palabra == 'negative':\n",
        "        count_negative += 1\n",
        "\n",
        "print(f'Número de comentarios negativos: {count_negative}')\n",
        "print(f'Número de comentarios positivos: {count_positive}')\n"
      ],
      "metadata": {
        "colab": {
          "base_uri": "https://localhost:8080/"
        },
        "id": "ED91TrBGCgdY",
        "outputId": "a8e521cb-ab54-43f1-d0ae-1abfa901d349"
      },
      "execution_count": null,
      "outputs": [
        {
          "output_type": "stream",
          "name": "stdout",
          "text": [
            "Número de comentarios negativos: 1878\n",
            "Número de comentarios positivos: 2634\n"
          ]
        }
      ]
    }
  ]
}